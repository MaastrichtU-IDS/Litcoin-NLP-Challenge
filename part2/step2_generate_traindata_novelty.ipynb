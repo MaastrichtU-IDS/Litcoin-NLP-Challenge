{
 "cells": [
  {
   "cell_type": "code",
   "execution_count": 1,
   "id": "5a57041b",
   "metadata": {},
   "outputs": [],
   "source": [
    "import pandas as pd\n",
    "import numpy as np\n",
    "import random\n",
    "import json\n",
    "import os\n",
    "\n",
    "from itertools import permutations\n",
    "import matplotlib.pyplot as plt\n",
    "from collections import defaultdict"
   ]
  },
  {
   "cell_type": "code",
   "execution_count": 2,
   "id": "2b9eef53",
   "metadata": {},
   "outputs": [],
   "source": [
    "abstracts_fname = \"data/abstracts_train.csv\"\n",
    "abstracts_df = pd.read_csv(abstracts_fname,sep='\\t')\n",
    "# abstracts_df.head()"
   ]
  },
  {
   "cell_type": "code",
   "execution_count": 3,
   "id": "342f8acd",
   "metadata": {},
   "outputs": [],
   "source": [
    "entities_fname = \"data/entities_train.csv\"\n",
    "entities_df = pd.read_csv(entities_fname,sep='\\t')\n",
    "# entities_df.head()"
   ]
  },
  {
   "cell_type": "code",
   "execution_count": 4,
   "id": "e71013e3",
   "metadata": {},
   "outputs": [],
   "source": [
    "relations_fname = \"data/relations_train.csv\"\n",
    "relations_df = pd.read_csv(relations_fname,sep='\\t')\n",
    "# relations_df.head()"
   ]
  },
  {
   "cell_type": "code",
   "execution_count": 5,
   "id": "41eae8c4",
   "metadata": {},
   "outputs": [
    {
     "name": "stdout",
     "output_type": "stream",
     "text": [
      "400\n",
      "13636\n",
      "4280\n"
     ]
    }
   ],
   "source": [
    "print(len(abstracts_df))\n",
    "print(len(entities_df))\n",
    "print(len(relations_df))"
   ]
  },
  {
   "cell_type": "code",
   "execution_count": 6,
   "id": "ae185240",
   "metadata": {},
   "outputs": [],
   "source": [
    "id2title ={ abs_id: title for abs_id, title in abstracts_df[['abstract_id','title']].values }\n",
    "id2abstr ={ abs_id: abs_text for abs_id, abs_text in abstracts_df[['abstract_id','abstract']].values }"
   ]
  },
  {
   "cell_type": "code",
   "execution_count": 7,
   "id": "7bbbdeb9",
   "metadata": {},
   "outputs": [],
   "source": [
    "def get_dic(abstracts_df, relations_df):\n",
    "    \n",
    "    id2title = { abs_id: title for abs_id, title in abstracts_df[['abstract_id','title']].values }\n",
    "    id2abstr = { abs_id: abs_text for abs_id, abs_text in abstracts_df[['abstract_id','abstract']].values }\n",
    "\n",
    "    relations = relations_df.type.unique()\n",
    "    relations2dic = {k: v for v, k in enumerate(relations)}\n",
    "    \n",
    "    return id2title, id2abstr, relations2dic\n",
    "id2title, id2abstr, relations2dic = get_dic(abstracts_df, relations_df)"
   ]
  },
  {
   "cell_type": "code",
   "execution_count": 8,
   "id": "596f988d",
   "metadata": {},
   "outputs": [],
   "source": [
    "# entity-type dictionary\n",
    "entityid2type ={ entity_ids: type for entity_ids, type in entities_df[['entity_ids','type']].values }\n",
    "# entityid2type\n",
    "\n",
    "mention2type = { mention: type for mention, type in entities_df[['mention','type']].values }\n",
    "mention2entityid = { mention: entity_ids for mention, entity_ids in entities_df[['mention','entity_ids']].values }"
   ]
  },
  {
   "cell_type": "code",
   "execution_count": 9,
   "id": "c8a04919",
   "metadata": {},
   "outputs": [],
   "source": [
    "relations_df['entity_1_type'] = relations_df['entity_1_id'].map(entityid2type)\n",
    "relations_df['entity_2_type'] = relations_df['entity_2_id'].map(entityid2type)"
   ]
  },
  {
   "cell_type": "code",
   "execution_count": 10,
   "id": "9fb7f816",
   "metadata": {},
   "outputs": [
    {
     "data": {
      "text/html": [
       "<div>\n",
       "<style scoped>\n",
       "    .dataframe tbody tr th:only-of-type {\n",
       "        vertical-align: middle;\n",
       "    }\n",
       "\n",
       "    .dataframe tbody tr th {\n",
       "        vertical-align: top;\n",
       "    }\n",
       "\n",
       "    .dataframe thead th {\n",
       "        text-align: right;\n",
       "    }\n",
       "</style>\n",
       "<table border=\"1\" class=\"dataframe\">\n",
       "  <thead>\n",
       "    <tr style=\"text-align: right;\">\n",
       "      <th></th>\n",
       "      <th>id</th>\n",
       "      <th>abstract_id</th>\n",
       "      <th>type</th>\n",
       "      <th>entity_1_id</th>\n",
       "      <th>entity_2_id</th>\n",
       "      <th>novel</th>\n",
       "      <th>entity_1_type</th>\n",
       "      <th>entity_2_type</th>\n",
       "    </tr>\n",
       "  </thead>\n",
       "  <tbody>\n",
       "    <tr>\n",
       "      <th>0</th>\n",
       "      <td>0</td>\n",
       "      <td>1353340</td>\n",
       "      <td>Association</td>\n",
       "      <td>410</td>\n",
       "      <td>D007966</td>\n",
       "      <td>No</td>\n",
       "      <td>GeneOrGeneProduct</td>\n",
       "      <td>DiseaseOrPhenotypicFeature</td>\n",
       "    </tr>\n",
       "    <tr>\n",
       "      <th>1</th>\n",
       "      <td>1</td>\n",
       "      <td>1353340</td>\n",
       "      <td>Positive_Correlation</td>\n",
       "      <td>rs74315458</td>\n",
       "      <td>D007966</td>\n",
       "      <td>Novel</td>\n",
       "      <td>SequenceVariant</td>\n",
       "      <td>DiseaseOrPhenotypicFeature</td>\n",
       "    </tr>\n",
       "    <tr>\n",
       "      <th>2</th>\n",
       "      <td>2</td>\n",
       "      <td>1671881</td>\n",
       "      <td>Positive_Correlation</td>\n",
       "      <td>D010661</td>\n",
       "      <td>rs62514952</td>\n",
       "      <td>Novel</td>\n",
       "      <td>DiseaseOrPhenotypicFeature</td>\n",
       "      <td>SequenceVariant</td>\n",
       "    </tr>\n",
       "    <tr>\n",
       "      <th>3</th>\n",
       "      <td>3</td>\n",
       "      <td>1671881</td>\n",
       "      <td>Positive_Correlation</td>\n",
       "      <td>D010661</td>\n",
       "      <td>rs62514953</td>\n",
       "      <td>Novel</td>\n",
       "      <td>DiseaseOrPhenotypicFeature</td>\n",
       "      <td>SequenceVariant</td>\n",
       "    </tr>\n",
       "    <tr>\n",
       "      <th>4</th>\n",
       "      <td>4</td>\n",
       "      <td>1671881</td>\n",
       "      <td>Association</td>\n",
       "      <td>5053</td>\n",
       "      <td>D010661</td>\n",
       "      <td>No</td>\n",
       "      <td>GeneOrGeneProduct</td>\n",
       "      <td>DiseaseOrPhenotypicFeature</td>\n",
       "    </tr>\n",
       "  </tbody>\n",
       "</table>\n",
       "</div>"
      ],
      "text/plain": [
       "   id  abstract_id                  type entity_1_id entity_2_id  novel  \\\n",
       "0   0      1353340           Association         410     D007966     No   \n",
       "1   1      1353340  Positive_Correlation  rs74315458     D007966  Novel   \n",
       "2   2      1671881  Positive_Correlation     D010661  rs62514952  Novel   \n",
       "3   3      1671881  Positive_Correlation     D010661  rs62514953  Novel   \n",
       "4   4      1671881           Association        5053     D010661     No   \n",
       "\n",
       "                entity_1_type               entity_2_type  \n",
       "0           GeneOrGeneProduct  DiseaseOrPhenotypicFeature  \n",
       "1             SequenceVariant  DiseaseOrPhenotypicFeature  \n",
       "2  DiseaseOrPhenotypicFeature             SequenceVariant  \n",
       "3  DiseaseOrPhenotypicFeature             SequenceVariant  \n",
       "4           GeneOrGeneProduct  DiseaseOrPhenotypicFeature  "
      ]
     },
     "execution_count": 10,
     "metadata": {},
     "output_type": "execute_result"
    }
   ],
   "source": [
    "relations_df.head()"
   ]
  },
  {
   "cell_type": "code",
   "execution_count": 11,
   "id": "f255688a",
   "metadata": {},
   "outputs": [
    {
     "data": {
      "text/plain": [
       "[('GeneOrGeneProduct', 'GeneOrGeneProduct'),\n",
       " ('GeneOrGeneProduct', 'DiseaseOrPhenotypicFeature'),\n",
       " ('ChemicalEntity', 'DiseaseOrPhenotypicFeature'),\n",
       " ('DiseaseOrPhenotypicFeature', 'GeneOrGeneProduct'),\n",
       " ('SequenceVariant', 'DiseaseOrPhenotypicFeature'),\n",
       " ('ChemicalEntity', 'GeneOrGeneProduct'),\n",
       " ('DiseaseOrPhenotypicFeature', 'SequenceVariant'),\n",
       " ('DiseaseOrPhenotypicFeature', 'ChemicalEntity'),\n",
       " ('ChemicalEntity', 'ChemicalEntity'),\n",
       " ('GeneOrGeneProduct', 'ChemicalEntity'),\n",
       " ('SequenceVariant', 'ChemicalEntity'),\n",
       " ('ChemicalEntity', 'SequenceVariant'),\n",
       " ('SequenceVariant', 'SequenceVariant'),\n",
       " ('SequenceVariant', 'GeneOrGeneProduct'),\n",
       " ('GeneOrGeneProduct', 'SequenceVariant')]"
      ]
     },
     "execution_count": 11,
     "metadata": {},
     "output_type": "execute_result"
    }
   ],
   "source": [
    "entity_type = relations_df[['entity_1_type','entity_2_type']].value_counts()\n",
    "# print(entity_type.index)\n",
    "entity_type_valid = []\n",
    "for i in entity_type.items():\n",
    "    entity_type_valid.append(i[0])\n",
    "entity_type_valid"
   ]
  },
  {
   "cell_type": "code",
   "execution_count": 78,
   "id": "c9da24bd",
   "metadata": {},
   "outputs": [
    {
     "name": "stdout",
     "output_type": "stream",
     "text": [
      "dataset size:   5003\n"
     ]
    }
   ],
   "source": [
    "# sentence2entitise = defaultdict(list)\n",
    "dataset_list = list()\n",
    "for key, df in entities_df.groupby('abstract_id'):\n",
    "    text = id2title[key] + ' ' +  id2abstr[key]\n",
    "    sentences = text.split('. ')\n",
    "    entity_pos2ids = dict()\n",
    "    entity_id2mention = dict()\n",
    "    for i, row in df.iterrows():\n",
    "        entity_pos2ids[row['offset_start'], row['offset_finish']] = row['entity_ids']\n",
    "        entity_id2mention[row['entity_ids']] = row['mention']\n",
    "\n",
    "    entity_id2mention_temp = dict()\n",
    "    all_entities = entity_id2mention.keys()\n",
    "    for entity in all_entities:\n",
    "        if ',' in entity:\n",
    "            entity_x = entity.split(',')\n",
    "            for i in entity_x:\n",
    "                entity_id2mention_temp[i] = entity_id2mention[entity]\n",
    "    entity_id2mention.update(entity_id2mention_temp)\n",
    "        \n",
    "    entitie2relation = dict()\n",
    "    entitie2novel = dict()\n",
    "    rels_df = relations_df[relations_df['abstract_id'] == key]\n",
    "    for j, row in rels_df.iterrows():\n",
    "        entitie2relation[row['entity_1_id'], row['entity_2_id']] = row['type']\n",
    "        entitie2novel[row['entity_1_id'], row['entity_2_id']] = row['novel']\n",
    "    \n",
    "    sentence2entitise = defaultdict(list)\n",
    "    for idx in range(len(sentences)):\n",
    "        if idx == 0:\n",
    "            sent_left = 0\n",
    "            sent_right = len(sentences[idx]+'. ')\n",
    "        else:\n",
    "            sent_left = sent_right \n",
    "            sent_right += len(sentences[idx]+'. ')\n",
    "        for entity_pos in entity_pos2ids.keys():\n",
    "            if entity_pos[0] > sent_left and entity_pos[1] < sent_right:\n",
    "                sentence2entitise[sentences[idx]].append(entity_pos2ids[entity_pos])\n",
    "\n",
    "    relation_entities = []\n",
    "    for s in sentence2entitise:\n",
    "        entities = sentence2entitise[s]\n",
    "        entities = list(set(entities))\n",
    "        comb = permutations(entities, 2)\n",
    "        for c in comb:\n",
    "            if c in entitie2relation.keys() :\n",
    "                sent_relation_type = entitie2relation[c]\n",
    "                novel = entitie2novel[c]\n",
    "            else:\n",
    "                continue\n",
    "                    \n",
    "            entity_1_id,  entity_2_id = c[0], c[1]\n",
    "            entity_1_mention, entity_2_mention = entity_id2mention[c[0]], entity_id2mention[c[1]]\n",
    "            dataset_list.append([key, s, entity_1_id, entity_2_id, entity_1_mention, entity_2_mention, sent_relation_type, novel])\n",
    "\n",
    "print('dataset size:  ',len(dataset_list))"
   ]
  },
  {
   "cell_type": "code",
   "execution_count": 79,
   "id": "986140f6",
   "metadata": {},
   "outputs": [
    {
     "name": "stdout",
     "output_type": "stream",
     "text": [
      "5003\n"
     ]
    }
   ],
   "source": [
    "dataset_df =pd.DataFrame(dataset_list, columns=['abstract_id','sentences','entity_1_id','entity_2_id','entity_1_mention',\n",
    "                                                'entity_2_mention','type', 'novel'])\n",
    "print(len(dataset_df))"
   ]
  },
  {
   "cell_type": "code",
   "execution_count": 80,
   "id": "080fb845",
   "metadata": {},
   "outputs": [
    {
     "data": {
      "text/plain": [
       "Novel    3444\n",
       "No       1559\n",
       "Name: novel, dtype: int64"
      ]
     },
     "execution_count": 80,
     "metadata": {},
     "output_type": "execute_result"
    }
   ],
   "source": [
    "#\n",
    "dataset_df.novel.value_counts()"
   ]
  },
  {
   "cell_type": "code",
   "execution_count": 81,
   "id": "e6fb1fb3",
   "metadata": {},
   "outputs": [
    {
     "data": {
      "text/plain": [
       "Association             2558\n",
       "Positive_Correlation    1302\n",
       "Negative_Correlation     904\n",
       "Comparison                89\n",
       "Bind                      80\n",
       "Cotreatment               53\n",
       "Drug_Interaction          13\n",
       "Conversion                 4\n",
       "Name: type, dtype: int64"
      ]
     },
     "execution_count": 81,
     "metadata": {},
     "output_type": "execute_result"
    }
   ],
   "source": [
    "dataset_df.type.value_counts()"
   ]
  },
  {
   "cell_type": "code",
   "execution_count": 82,
   "id": "d21b330c",
   "metadata": {},
   "outputs": [],
   "source": [
    "from sklearn import model_selection\n",
    "def randomKFold_func(df, n_splits=5):\n",
    "    # creat a new colunm called kfold and fill it with -1\n",
    "    df['kfold'] = -1\n",
    "    # randomize the rows of the data\n",
    "    df = df.sample(frac=1).reset_index(drop=True)\n",
    "    # initiate the kfold class for model selection module\n",
    "    kf = model_selection.KFold(n_splits=n_splits)\n",
    "    # fill the new kfold column\n",
    "    for f, (t_, v_) in enumerate(kf.split(X=df)):\n",
    "        df.loc[v_, 'kfold'] = f \n",
    "    return df\n",
    "\n",
    "dataset_df_kfold = randomKFold_func(dataset_df, n_splits=5)"
   ]
  },
  {
   "cell_type": "code",
   "execution_count": 83,
   "id": "fc97874f",
   "metadata": {},
   "outputs": [
    {
     "data": {
      "text/html": [
       "<div>\n",
       "<style scoped>\n",
       "    .dataframe tbody tr th:only-of-type {\n",
       "        vertical-align: middle;\n",
       "    }\n",
       "\n",
       "    .dataframe tbody tr th {\n",
       "        vertical-align: top;\n",
       "    }\n",
       "\n",
       "    .dataframe thead th {\n",
       "        text-align: right;\n",
       "    }\n",
       "</style>\n",
       "<table border=\"1\" class=\"dataframe\">\n",
       "  <thead>\n",
       "    <tr style=\"text-align: right;\">\n",
       "      <th></th>\n",
       "      <th>abstract_id</th>\n",
       "      <th>sentences</th>\n",
       "      <th>entity_1_id</th>\n",
       "      <th>entity_2_id</th>\n",
       "      <th>entity_1_mention</th>\n",
       "      <th>entity_2_mention</th>\n",
       "      <th>type</th>\n",
       "      <th>novel</th>\n",
       "      <th>kfold</th>\n",
       "    </tr>\n",
       "  </thead>\n",
       "  <tbody>\n",
       "    <tr>\n",
       "      <th>3648</th>\n",
       "      <td>17151160</td>\n",
       "      <td>Significantly more weight gain occurred with o...</td>\n",
       "      <td>D015430</td>\n",
       "      <td>C076029</td>\n",
       "      <td>weight gain</td>\n",
       "      <td>olanzapine</td>\n",
       "      <td>Positive_Correlation</td>\n",
       "      <td>Novel</td>\n",
       "      <td>3</td>\n",
       "    </tr>\n",
       "    <tr>\n",
       "      <th>2235</th>\n",
       "      <td>28260110</td>\n",
       "      <td>The high expression of FASN is considered a pr...</td>\n",
       "      <td>2194</td>\n",
       "      <td>D015179</td>\n",
       "      <td>FASN</td>\n",
       "      <td>colon cancer</td>\n",
       "      <td>Association</td>\n",
       "      <td>No</td>\n",
       "      <td>2</td>\n",
       "    </tr>\n",
       "    <tr>\n",
       "      <th>1736</th>\n",
       "      <td>15649253</td>\n",
       "      <td>Primary malignant lymphoma of the brain: frequ...</td>\n",
       "      <td>11102</td>\n",
       "      <td>D009369</td>\n",
       "      <td>p14</td>\n",
       "      <td>tumors</td>\n",
       "      <td>Negative_Correlation</td>\n",
       "      <td>No</td>\n",
       "      <td>1</td>\n",
       "    </tr>\n",
       "    <tr>\n",
       "      <th>2966</th>\n",
       "      <td>9294109</td>\n",
       "      <td>Myotonic dystrophy (DM), the most prevalent mu...</td>\n",
       "      <td>D009223</td>\n",
       "      <td>13400</td>\n",
       "      <td>DM</td>\n",
       "      <td>DMPK</td>\n",
       "      <td>Association</td>\n",
       "      <td>No</td>\n",
       "      <td>2</td>\n",
       "    </tr>\n",
       "    <tr>\n",
       "      <th>4568</th>\n",
       "      <td>16158428</td>\n",
       "      <td>We report here a new family with X-linked ment...</td>\n",
       "      <td>4983</td>\n",
       "      <td>D038901</td>\n",
       "      <td>OPHN1</td>\n",
       "      <td>X-linked mental retardation</td>\n",
       "      <td>Association</td>\n",
       "      <td>Novel</td>\n",
       "      <td>4</td>\n",
       "    </tr>\n",
       "  </tbody>\n",
       "</table>\n",
       "</div>"
      ],
      "text/plain": [
       "      abstract_id                                          sentences  \\\n",
       "3648     17151160  Significantly more weight gain occurred with o...   \n",
       "2235     28260110  The high expression of FASN is considered a pr...   \n",
       "1736     15649253  Primary malignant lymphoma of the brain: frequ...   \n",
       "2966      9294109  Myotonic dystrophy (DM), the most prevalent mu...   \n",
       "4568     16158428  We report here a new family with X-linked ment...   \n",
       "\n",
       "     entity_1_id entity_2_id entity_1_mention             entity_2_mention  \\\n",
       "3648     D015430     C076029      weight gain                   olanzapine   \n",
       "2235        2194     D015179             FASN                 colon cancer   \n",
       "1736       11102     D009369              p14                       tumors   \n",
       "2966     D009223       13400               DM                         DMPK   \n",
       "4568        4983     D038901            OPHN1  X-linked mental retardation   \n",
       "\n",
       "                      type  novel  kfold  \n",
       "3648  Positive_Correlation  Novel      3  \n",
       "2235           Association     No      2  \n",
       "1736  Negative_Correlation     No      1  \n",
       "2966           Association     No      2  \n",
       "4568           Association  Novel      4  "
      ]
     },
     "execution_count": 83,
     "metadata": {},
     "output_type": "execute_result"
    }
   ],
   "source": [
    "dataset_df_kfold.sample(5)"
   ]
  },
  {
   "cell_type": "code",
   "execution_count": 84,
   "id": "e954d21b",
   "metadata": {},
   "outputs": [],
   "source": [
    "dataset_df_kfold.to_csv('./data/train_relation_candidates_novelity.csv',index=None)"
   ]
  },
  {
   "cell_type": "code",
   "execution_count": null,
   "id": "687feeab",
   "metadata": {},
   "outputs": [],
   "source": []
  },
  {
   "cell_type": "code",
   "execution_count": null,
   "id": "b64c9cce",
   "metadata": {},
   "outputs": [],
   "source": []
  }
 ],
 "metadata": {
  "kernelspec": {
   "display_name": "Python 3",
   "language": "python",
   "name": "python3"
  },
  "language_info": {
   "codemirror_mode": {
    "name": "ipython",
    "version": 3
   },
   "file_extension": ".py",
   "mimetype": "text/x-python",
   "name": "python",
   "nbconvert_exporter": "python",
   "pygments_lexer": "ipython3",
   "version": "3.8.8"
  }
 },
 "nbformat": 4,
 "nbformat_minor": 5
}
