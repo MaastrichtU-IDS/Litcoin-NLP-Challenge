{
 "cells": [
  {
   "cell_type": "code",
   "execution_count": 2,
   "id": "08023299",
   "metadata": {},
   "outputs": [],
   "source": [
    "import pandas as pd\n",
    "import numpy as np\n",
    "import random\n",
    "import json\n",
    "import os\n",
    "\n",
    "from itertools import permutations\n",
    "from itertools import combinations \n",
    "import matplotlib.pyplot as plt\n",
    "from collections import defaultdict"
   ]
  },
  {
   "cell_type": "code",
   "execution_count": 3,
   "id": "92badb4f",
   "metadata": {},
   "outputs": [],
   "source": [
    "abstracts_fname = \"data/abstracts_train.csv\"\n",
    "abstracts_df = pd.read_csv(abstracts_fname,sep='\\t')\n",
    "# abstracts_df.head()"
   ]
  },
  {
   "cell_type": "code",
   "execution_count": 5,
   "id": "7c8d43a9",
   "metadata": {},
   "outputs": [],
   "source": [
    "entities_fname = \"data/entities_train.csv\"\n",
    "entities_df = pd.read_csv(entities_fname,sep='\\t')\n",
    "# entities_df.head()"
   ]
  },
  {
   "cell_type": "code",
   "execution_count": 6,
   "id": "cc6c6191",
   "metadata": {},
   "outputs": [],
   "source": [
    "relations_fname = \"data/relations_train.csv\"\n",
    "relations_df = pd.read_csv(relations_fname,sep='\\t')\n",
    "# relations_df.head()"
   ]
  },
  {
   "cell_type": "code",
   "execution_count": 7,
   "id": "4f066eaf",
   "metadata": {},
   "outputs": [
    {
     "name": "stdout",
     "output_type": "stream",
     "text": [
      "400\n",
      "13636\n",
      "4280\n"
     ]
    }
   ],
   "source": [
    "print(len(abstracts_df))\n",
    "print(len(entities_df))\n",
    "print(len(relations_df))"
   ]
  },
  {
   "cell_type": "code",
   "execution_count": 8,
   "id": "7714760c",
   "metadata": {},
   "outputs": [],
   "source": [
    "id2title ={ abs_id: title for abs_id, title in abstracts_df[['abstract_id','title']].values }\n",
    "id2abstr ={ abs_id: abs_text for abs_id, abs_text in abstracts_df[['abstract_id','abstract']].values }"
   ]
  },
  {
   "cell_type": "code",
   "execution_count": 9,
   "id": "cd5d75ce",
   "metadata": {},
   "outputs": [],
   "source": [
    "def get_dic(abstracts_df, relations_df):\n",
    "    \n",
    "    id2title = { abs_id: title for abs_id, title in abstracts_df[['abstract_id','title']].values }\n",
    "    id2abstr = { abs_id: abs_text for abs_id, abs_text in abstracts_df[['abstract_id','abstract']].values }\n",
    "\n",
    "    relations = relations_df.type.unique()\n",
    "    relations2dic = {k: v for v, k in enumerate(relations)}\n",
    "    \n",
    "    return id2title, id2abstr, relations2dic\n",
    "id2title, id2abstr, relations2dic = get_dic(abstracts_df, relations_df)"
   ]
  },
  {
   "cell_type": "code",
   "execution_count": 10,
   "id": "cff34334",
   "metadata": {},
   "outputs": [],
   "source": [
    "# entity-type dictionary\n",
    "entityid2type ={ entity_ids: type for entity_ids, type in entities_df[['entity_ids','type']].values }\n",
    "# entityid2type\n",
    "\n",
    "mention2type = { mention: type for mention, type in entities_df[['mention','type']].values }\n",
    "mention2entityid = { mention: entity_ids for mention, entity_ids in entities_df[['mention','entity_ids']].values }"
   ]
  },
  {
   "cell_type": "code",
   "execution_count": 11,
   "id": "7daebafd",
   "metadata": {},
   "outputs": [],
   "source": [
    "relations_df['entity_1_type'] = relations_df['entity_1_id'].map(entityid2type)\n",
    "relations_df['entity_2_type'] = relations_df['entity_2_id'].map(entityid2type)"
   ]
  },
  {
   "cell_type": "code",
   "execution_count": 12,
   "id": "515c0ea7",
   "metadata": {},
   "outputs": [
    {
     "data": {
      "text/html": [
       "<div>\n",
       "<style scoped>\n",
       "    .dataframe tbody tr th:only-of-type {\n",
       "        vertical-align: middle;\n",
       "    }\n",
       "\n",
       "    .dataframe tbody tr th {\n",
       "        vertical-align: top;\n",
       "    }\n",
       "\n",
       "    .dataframe thead th {\n",
       "        text-align: right;\n",
       "    }\n",
       "</style>\n",
       "<table border=\"1\" class=\"dataframe\">\n",
       "  <thead>\n",
       "    <tr style=\"text-align: right;\">\n",
       "      <th></th>\n",
       "      <th>id</th>\n",
       "      <th>abstract_id</th>\n",
       "      <th>type</th>\n",
       "      <th>entity_1_id</th>\n",
       "      <th>entity_2_id</th>\n",
       "      <th>novel</th>\n",
       "      <th>entity_1_type</th>\n",
       "      <th>entity_2_type</th>\n",
       "    </tr>\n",
       "  </thead>\n",
       "  <tbody>\n",
       "    <tr>\n",
       "      <th>0</th>\n",
       "      <td>0</td>\n",
       "      <td>1353340</td>\n",
       "      <td>Association</td>\n",
       "      <td>410</td>\n",
       "      <td>D007966</td>\n",
       "      <td>No</td>\n",
       "      <td>GeneOrGeneProduct</td>\n",
       "      <td>DiseaseOrPhenotypicFeature</td>\n",
       "    </tr>\n",
       "    <tr>\n",
       "      <th>1</th>\n",
       "      <td>1</td>\n",
       "      <td>1353340</td>\n",
       "      <td>Positive_Correlation</td>\n",
       "      <td>rs74315458</td>\n",
       "      <td>D007966</td>\n",
       "      <td>Novel</td>\n",
       "      <td>SequenceVariant</td>\n",
       "      <td>DiseaseOrPhenotypicFeature</td>\n",
       "    </tr>\n",
       "    <tr>\n",
       "      <th>2</th>\n",
       "      <td>2</td>\n",
       "      <td>1671881</td>\n",
       "      <td>Positive_Correlation</td>\n",
       "      <td>D010661</td>\n",
       "      <td>rs62514952</td>\n",
       "      <td>Novel</td>\n",
       "      <td>DiseaseOrPhenotypicFeature</td>\n",
       "      <td>SequenceVariant</td>\n",
       "    </tr>\n",
       "    <tr>\n",
       "      <th>3</th>\n",
       "      <td>3</td>\n",
       "      <td>1671881</td>\n",
       "      <td>Positive_Correlation</td>\n",
       "      <td>D010661</td>\n",
       "      <td>rs62514953</td>\n",
       "      <td>Novel</td>\n",
       "      <td>DiseaseOrPhenotypicFeature</td>\n",
       "      <td>SequenceVariant</td>\n",
       "    </tr>\n",
       "    <tr>\n",
       "      <th>4</th>\n",
       "      <td>4</td>\n",
       "      <td>1671881</td>\n",
       "      <td>Association</td>\n",
       "      <td>5053</td>\n",
       "      <td>D010661</td>\n",
       "      <td>No</td>\n",
       "      <td>GeneOrGeneProduct</td>\n",
       "      <td>DiseaseOrPhenotypicFeature</td>\n",
       "    </tr>\n",
       "  </tbody>\n",
       "</table>\n",
       "</div>"
      ],
      "text/plain": [
       "   id  abstract_id                  type entity_1_id entity_2_id  novel  \\\n",
       "0   0      1353340           Association         410     D007966     No   \n",
       "1   1      1353340  Positive_Correlation  rs74315458     D007966  Novel   \n",
       "2   2      1671881  Positive_Correlation     D010661  rs62514952  Novel   \n",
       "3   3      1671881  Positive_Correlation     D010661  rs62514953  Novel   \n",
       "4   4      1671881           Association        5053     D010661     No   \n",
       "\n",
       "                entity_1_type               entity_2_type  \n",
       "0           GeneOrGeneProduct  DiseaseOrPhenotypicFeature  \n",
       "1             SequenceVariant  DiseaseOrPhenotypicFeature  \n",
       "2  DiseaseOrPhenotypicFeature             SequenceVariant  \n",
       "3  DiseaseOrPhenotypicFeature             SequenceVariant  \n",
       "4           GeneOrGeneProduct  DiseaseOrPhenotypicFeature  "
      ]
     },
     "execution_count": 12,
     "metadata": {},
     "output_type": "execute_result"
    }
   ],
   "source": [
    "relations_df.head()"
   ]
  },
  {
   "cell_type": "code",
   "execution_count": 13,
   "id": "97fd70ab",
   "metadata": {},
   "outputs": [
    {
     "data": {
      "text/plain": [
       "[('GeneOrGeneProduct', 'GeneOrGeneProduct'),\n",
       " ('GeneOrGeneProduct', 'DiseaseOrPhenotypicFeature'),\n",
       " ('ChemicalEntity', 'DiseaseOrPhenotypicFeature'),\n",
       " ('DiseaseOrPhenotypicFeature', 'GeneOrGeneProduct'),\n",
       " ('SequenceVariant', 'DiseaseOrPhenotypicFeature'),\n",
       " ('ChemicalEntity', 'GeneOrGeneProduct'),\n",
       " ('DiseaseOrPhenotypicFeature', 'SequenceVariant'),\n",
       " ('DiseaseOrPhenotypicFeature', 'ChemicalEntity'),\n",
       " ('ChemicalEntity', 'ChemicalEntity'),\n",
       " ('GeneOrGeneProduct', 'ChemicalEntity'),\n",
       " ('SequenceVariant', 'ChemicalEntity'),\n",
       " ('ChemicalEntity', 'SequenceVariant'),\n",
       " ('SequenceVariant', 'SequenceVariant'),\n",
       " ('SequenceVariant', 'GeneOrGeneProduct'),\n",
       " ('GeneOrGeneProduct', 'SequenceVariant')]"
      ]
     },
     "execution_count": 13,
     "metadata": {},
     "output_type": "execute_result"
    }
   ],
   "source": [
    "entity_type = relations_df[['entity_1_type','entity_2_type']].value_counts()\n",
    "# print(entity_type.index)\n",
    "entity_type_valid = []\n",
    "for i in entity_type.items():\n",
    "    entity_type_valid.append(i[0])\n",
    "entity_type_valid"
   ]
  },
  {
   "cell_type": "code",
   "execution_count": 14,
   "id": "6124716d",
   "metadata": {},
   "outputs": [
    {
     "name": "stdout",
     "output_type": "stream",
     "text": [
      "dataset size:   7192\n"
     ]
    }
   ],
   "source": [
    "# sentence2entitise = defaultdict(list)\n",
    "dataset_list = list()\n",
    "#check_list = list()\n",
    "for key, df in entities_df.groupby('abstract_id'):\n",
    "    #if key == 1671881:\n",
    "    text = id2title[key] + ' ' +  id2abstr[key]\n",
    "    sentences = text.split('. ')\n",
    "    entity_pos2ids = dict()\n",
    "    entity_pos2mention = dict()\n",
    "    entity_id2mention = defaultdict(list)\n",
    "    for i, row in df.iterrows():\n",
    "        entity_pos2ids[row['offset_start'], row['offset_finish']] = row['entity_ids']\n",
    "        entity_id2mention[row['entity_ids']].append(row['mention'])\n",
    "    entity_id2mention = { key : list(set(value)) for key, value in entity_id2mention.items()}\n",
    "    entity_id2mention_temp = dict()\n",
    "    all_entities = entity_id2mention.keys()\n",
    "    for entity in all_entities:\n",
    "        if ',' in entity:\n",
    "            entity_x = entity.split(',')\n",
    "            for i in entity_x:\n",
    "                entity_id2mention_temp[i] = entity_id2mention[entity]\n",
    "    entity_id2mention.update(entity_id2mention_temp)\n",
    "\n",
    "    entitie2relation = dict()\n",
    "    rels_df = relations_df[relations_df['abstract_id'] == key]\n",
    "    for j, row in rels_df.iterrows():\n",
    "        entitie2relation[row['entity_1_id'], row['entity_2_id']] = row['type']\n",
    "        entitie2relation[row['entity_2_id'], row['entity_1_id']] = row['type']\n",
    "\n",
    "    sentence2entitise = defaultdict(list)\n",
    "    for idx in range(len(sentences)):\n",
    "        if idx == 0:\n",
    "            sent_left = 0\n",
    "            sent_right = len(sentences[idx]+'. ')\n",
    "        else:\n",
    "            sent_left = sent_right \n",
    "            sent_right += len(sentences[idx]+'. ')\n",
    "        for entity_pos in entity_pos2ids.keys():\n",
    "            if entity_pos[0] > sent_left and entity_pos[1] < sent_right:\n",
    "                sentence2entitise[sentences[idx]].append(entity_pos2ids[entity_pos])\n",
    "\n",
    "    relation_entities = []\n",
    "    for s in sentence2entitise:\n",
    "        entities = sentence2entitise[s]\n",
    "        entities = list(set(entities))\n",
    "        comb = combinations(entities, 2)\n",
    "        for c in comb:\n",
    "            if c in entitie2relation.keys():\n",
    "                sent_relation_type = entitie2relation[c]\n",
    "            else:\n",
    "                # I think we do not need so much Negative samples\n",
    "                prob_list = list(range(5))\n",
    "                dst = random.choice(prob_list)\n",
    "                if dst == 1:\n",
    "                    sent_relation_type = \"Negative\"\n",
    "                else:\n",
    "                    continue\n",
    "\n",
    "            entity_1_id,  entity_2_id = c[0], c[1]        \n",
    "            entity_1_mentions, entity_2_mentions = entity_id2mention[c[0]], entity_id2mention[c[1]]\n",
    "          \n",
    "            for mention in entity_1_mentions:\n",
    "                if mention in s:\n",
    "                    entity_1_mention = mention\n",
    "                else:\n",
    "                    continue\n",
    "            for mention in entity_2_mentions:\n",
    "                if mention in s:\n",
    "                    entity_2_mention = mention \n",
    "                else:\n",
    "                    continue\n",
    "            if len(entity_1_mention) > len(entity_2_mention):\n",
    "                s_new = s.replace(entity_1_mention, '<e1> ' + entity_1_mention + ' </e1>')\n",
    "                s_new = s_new.replace(entity_2_mention, '<e2> ' + entity_2_mention + ' </e2>')\n",
    "            else:\n",
    "                s_new = s.replace(entity_2_mention, '<e2> ' + entity_2_mention + ' </e2>')\n",
    "                s_new = s_new.replace(entity_1_mention, '<e1> ' + entity_1_mention + ' </e1>')\n",
    "\n",
    "            if ('<e1>' in s_new) and ('</e2>' in s_new):\n",
    "                dataset_list.append([key,\n",
    "                                     s_new, \n",
    "                                     entity_1_id,\n",
    "                                     entity_2_id,\n",
    "                                     entity_1_mention,\n",
    "                                     entity_2_mention,\n",
    "                                     sent_relation_type])\n",
    "            #else:\n",
    "                #check_list.append([key, s_new])\n",
    "                #print(entity_1_mention, '----' ,entity_2_mention)\n",
    "                #print(s_new,'\\n')\n",
    "\n",
    "print('dataset size:  ',len(dataset_list))\n",
    "#print(len(check_list))"
   ]
  },
  {
   "cell_type": "code",
   "execution_count": 15,
   "id": "8bb89a08",
   "metadata": {},
   "outputs": [
    {
     "name": "stdout",
     "output_type": "stream",
     "text": [
      "7192\n"
     ]
    }
   ],
   "source": [
    "dataset_df =pd.DataFrame(dataset_list, columns=['abstract_id','sentences','entity_1_id','entity_2_id','entity_1_mention','entity_2_mention','type'])\n",
    "print(len(dataset_df))"
   ]
  },
  {
   "cell_type": "code",
   "execution_count": 16,
   "id": "9cd0cd5e",
   "metadata": {},
   "outputs": [
    {
     "data": {
      "text/plain": [
       "Association             2514\n",
       "Negative                2279\n",
       "Positive_Correlation    1278\n",
       "Negative_Correlation     890\n",
       "Comparison                89\n",
       "Bind                      72\n",
       "Cotreatment               53\n",
       "Drug_Interaction          13\n",
       "Conversion                 4\n",
       "Name: type, dtype: int64"
      ]
     },
     "execution_count": 16,
     "metadata": {},
     "output_type": "execute_result"
    }
   ],
   "source": [
    "#\n",
    "dataset_df.type.value_counts()"
   ]
  },
  {
   "cell_type": "code",
   "execution_count": 17,
   "id": "5d9aa322",
   "metadata": {},
   "outputs": [],
   "source": [
    "from sklearn import model_selection\n",
    "def randomKFold_func(df, n_splits=5):\n",
    "    # creat a new colunm called kfold and fill it with -1\n",
    "    df['kfold'] = -1\n",
    "    # randomize the rows of the data\n",
    "    df = df.sample(frac=1).reset_index(drop=True)\n",
    "    # initiate the kfold class for model selection module\n",
    "    kf = model_selection.KFold(n_splits=n_splits)\n",
    "    # fill the new kfold column\n",
    "    for f, (t_, v_) in enumerate(kf.split(X=df)):\n",
    "        df.loc[v_, 'kfold'] = f \n",
    "    return df\n",
    "\n",
    "dataset_df_kfold = randomKFold_func(dataset_df, n_splits=5)"
   ]
  },
  {
   "cell_type": "code",
   "execution_count": 18,
   "id": "858647a6",
   "metadata": {},
   "outputs": [
    {
     "data": {
      "text/html": [
       "<div>\n",
       "<style scoped>\n",
       "    .dataframe tbody tr th:only-of-type {\n",
       "        vertical-align: middle;\n",
       "    }\n",
       "\n",
       "    .dataframe tbody tr th {\n",
       "        vertical-align: top;\n",
       "    }\n",
       "\n",
       "    .dataframe thead th {\n",
       "        text-align: right;\n",
       "    }\n",
       "</style>\n",
       "<table border=\"1\" class=\"dataframe\">\n",
       "  <thead>\n",
       "    <tr style=\"text-align: right;\">\n",
       "      <th></th>\n",
       "      <th>abstract_id</th>\n",
       "      <th>sentences</th>\n",
       "      <th>entity_1_id</th>\n",
       "      <th>entity_2_id</th>\n",
       "      <th>entity_1_mention</th>\n",
       "      <th>entity_2_mention</th>\n",
       "      <th>type</th>\n",
       "      <th>kfold</th>\n",
       "    </tr>\n",
       "  </thead>\n",
       "  <tbody>\n",
       "    <tr>\n",
       "      <th>4238</th>\n",
       "      <td>27090298</td>\n",
       "      <td>The enzyme &lt;e1&gt; FASN &lt;/e1&gt; (fatty acid synthas...</td>\n",
       "      <td>2194</td>\n",
       "      <td>D008659</td>\n",
       "      <td>FASN</td>\n",
       "      <td>metabolic dysfunction</td>\n",
       "      <td>Association</td>\n",
       "      <td>2</td>\n",
       "    </tr>\n",
       "    <tr>\n",
       "      <th>4750</th>\n",
       "      <td>28151486</td>\n",
       "      <td>In &lt;e2&gt; breast cancer &lt;/e2&gt; patients, high lev...</td>\n",
       "      <td>64852</td>\n",
       "      <td>D001943</td>\n",
       "      <td>Star-PAP</td>\n",
       "      <td>breast cancer</td>\n",
       "      <td>Association</td>\n",
       "      <td>3</td>\n",
       "    </tr>\n",
       "    <tr>\n",
       "      <th>4743</th>\n",
       "      <td>20705401</td>\n",
       "      <td>In the haplotype-wise analysis, we detected an...</td>\n",
       "      <td>D011605</td>\n",
       "      <td>D008694</td>\n",
       "      <td>psychosis</td>\n",
       "      <td>METH</td>\n",
       "      <td>Positive_Correlation</td>\n",
       "      <td>3</td>\n",
       "    </tr>\n",
       "    <tr>\n",
       "      <th>608</th>\n",
       "      <td>18779591</td>\n",
       "      <td>This sole substitution was sufficient to confe...</td>\n",
       "      <td>5618</td>\n",
       "      <td>6776</td>\n",
       "      <td>PrlR</td>\n",
       "      <td>STAT5</td>\n",
       "      <td>Association</td>\n",
       "      <td>0</td>\n",
       "    </tr>\n",
       "    <tr>\n",
       "      <th>1111</th>\n",
       "      <td>20523265</td>\n",
       "      <td>PURPOSE: Genes in the complement pathway, incl...</td>\n",
       "      <td>D008268</td>\n",
       "      <td>718</td>\n",
       "      <td>age-related macular degeneration</td>\n",
       "      <td>C3</td>\n",
       "      <td>Association</td>\n",
       "      <td>0</td>\n",
       "    </tr>\n",
       "  </tbody>\n",
       "</table>\n",
       "</div>"
      ],
      "text/plain": [
       "      abstract_id                                          sentences  \\\n",
       "4238     27090298  The enzyme <e1> FASN </e1> (fatty acid synthas...   \n",
       "4750     28151486  In <e2> breast cancer </e2> patients, high lev...   \n",
       "4743     20705401  In the haplotype-wise analysis, we detected an...   \n",
       "608      18779591  This sole substitution was sufficient to confe...   \n",
       "1111     20523265  PURPOSE: Genes in the complement pathway, incl...   \n",
       "\n",
       "     entity_1_id entity_2_id                  entity_1_mention  \\\n",
       "4238        2194     D008659                              FASN   \n",
       "4750       64852     D001943                          Star-PAP   \n",
       "4743     D011605     D008694                         psychosis   \n",
       "608         5618        6776                              PrlR   \n",
       "1111     D008268         718  age-related macular degeneration   \n",
       "\n",
       "           entity_2_mention                  type  kfold  \n",
       "4238  metabolic dysfunction           Association      2  \n",
       "4750          breast cancer           Association      3  \n",
       "4743                   METH  Positive_Correlation      3  \n",
       "608                   STAT5           Association      0  \n",
       "1111                     C3           Association      0  "
      ]
     },
     "execution_count": 18,
     "metadata": {},
     "output_type": "execute_result"
    }
   ],
   "source": [
    "dataset_df_kfold.sample(5)"
   ]
  },
  {
   "cell_type": "code",
   "execution_count": 19,
   "id": "3ca63892",
   "metadata": {},
   "outputs": [],
   "source": [
    "dataset_df_kfold.to_csv('./data/train_relation_candidates.csv',index=None)"
   ]
  },
  {
   "cell_type": "code",
   "execution_count": null,
   "id": "254ed140",
   "metadata": {},
   "outputs": [],
   "source": []
  },
  {
   "cell_type": "code",
   "execution_count": null,
   "id": "b3941d09",
   "metadata": {},
   "outputs": [],
   "source": []
  }
 ],
 "metadata": {
  "kernelspec": {
   "display_name": "Python 3",
   "language": "python",
   "name": "python3"
  },
  "language_info": {
   "codemirror_mode": {
    "name": "ipython",
    "version": 3
   },
   "file_extension": ".py",
   "mimetype": "text/x-python",
   "name": "python",
   "nbconvert_exporter": "python",
   "pygments_lexer": "ipython3",
   "version": "3.8.8"
  }
 },
 "nbformat": 4,
 "nbformat_minor": 5
}
