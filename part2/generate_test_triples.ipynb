{
 "cells": [
  {
   "cell_type": "code",
   "execution_count": 1,
   "id": "83ea8606",
   "metadata": {},
   "outputs": [],
   "source": [
    "import pandas as pd\n",
    "import numpy as np\n",
    "import random\n",
    "import json\n",
    "import os\n",
    "\n",
    "from itertools import permutations\n",
    "import matplotlib.pyplot as plt\n",
    "from collections import defaultdict"
   ]
  },
  {
   "cell_type": "code",
   "execution_count": 2,
   "id": "d649377c",
   "metadata": {},
   "outputs": [
    {
     "data": {
      "text/html": [
       "<div>\n",
       "<style scoped>\n",
       "    .dataframe tbody tr th:only-of-type {\n",
       "        vertical-align: middle;\n",
       "    }\n",
       "\n",
       "    .dataframe tbody tr th {\n",
       "        vertical-align: top;\n",
       "    }\n",
       "\n",
       "    .dataframe thead th {\n",
       "        text-align: right;\n",
       "    }\n",
       "</style>\n",
       "<table border=\"1\" class=\"dataframe\">\n",
       "  <thead>\n",
       "    <tr style=\"text-align: right;\">\n",
       "      <th></th>\n",
       "      <th>abstract_id</th>\n",
       "      <th>title</th>\n",
       "      <th>abstract</th>\n",
       "    </tr>\n",
       "  </thead>\n",
       "  <tbody>\n",
       "    <tr>\n",
       "      <th>0</th>\n",
       "      <td>1711760</td>\n",
       "      <td>Delayed institution of hypertension during foc...</td>\n",
       "      <td>The effect of induced hypertension instituted ...</td>\n",
       "    </tr>\n",
       "    <tr>\n",
       "      <th>1</th>\n",
       "      <td>6086495</td>\n",
       "      <td>Localisation of the Becker muscular dystrophy ...</td>\n",
       "      <td>A linkage study in 30 Becker muscular dystroph...</td>\n",
       "    </tr>\n",
       "    <tr>\n",
       "      <th>2</th>\n",
       "      <td>7018927</td>\n",
       "      <td>Pituitary response to luteinizing hormone-rele...</td>\n",
       "      <td>The effects of a 6-hour infusion with haloperi...</td>\n",
       "    </tr>\n",
       "    <tr>\n",
       "      <th>3</th>\n",
       "      <td>7811247</td>\n",
       "      <td>X-linked adrenoleukodystrophy (ALD): a novel m...</td>\n",
       "      <td>Fragments of the adrenoleukodystrophy (ALD) cD...</td>\n",
       "    </tr>\n",
       "    <tr>\n",
       "      <th>4</th>\n",
       "      <td>8944024</td>\n",
       "      <td>Detection of heterozygous mutations in BRCA1 u...</td>\n",
       "      <td>The ability to scan a large gene rapidly and a...</td>\n",
       "    </tr>\n",
       "  </tbody>\n",
       "</table>\n",
       "</div>"
      ],
      "text/plain": [
       "   abstract_id                                              title  \\\n",
       "0      1711760  Delayed institution of hypertension during foc...   \n",
       "1      6086495  Localisation of the Becker muscular dystrophy ...   \n",
       "2      7018927  Pituitary response to luteinizing hormone-rele...   \n",
       "3      7811247  X-linked adrenoleukodystrophy (ALD): a novel m...   \n",
       "4      8944024  Detection of heterozygous mutations in BRCA1 u...   \n",
       "\n",
       "                                            abstract  \n",
       "0  The effect of induced hypertension instituted ...  \n",
       "1  A linkage study in 30 Becker muscular dystroph...  \n",
       "2  The effects of a 6-hour infusion with haloperi...  \n",
       "3  Fragments of the adrenoleukodystrophy (ALD) cD...  \n",
       "4  The ability to scan a large gene rapidly and a...  "
      ]
     },
     "execution_count": 2,
     "metadata": {},
     "output_type": "execute_result"
    }
   ],
   "source": [
    "abstracts_test_fname = \"../data/test/abstracts_test.csv\"\n",
    "abstracts_test_df = pd.read_csv(abstracts_test_fname,sep='\\t')\n",
    "abstracts_test_df.head()"
   ]
  },
  {
   "cell_type": "code",
   "execution_count": 3,
   "id": "b16ca59a",
   "metadata": {},
   "outputs": [
    {
     "data": {
      "text/html": [
       "<div>\n",
       "<style scoped>\n",
       "    .dataframe tbody tr th:only-of-type {\n",
       "        vertical-align: middle;\n",
       "    }\n",
       "\n",
       "    .dataframe tbody tr th {\n",
       "        vertical-align: top;\n",
       "    }\n",
       "\n",
       "    .dataframe thead th {\n",
       "        text-align: right;\n",
       "    }\n",
       "</style>\n",
       "<table border=\"1\" class=\"dataframe\">\n",
       "  <thead>\n",
       "    <tr style=\"text-align: right;\">\n",
       "      <th></th>\n",
       "      <th>id</th>\n",
       "      <th>abstract_id</th>\n",
       "      <th>offset_start</th>\n",
       "      <th>offset_finish</th>\n",
       "      <th>type</th>\n",
       "      <th>mention</th>\n",
       "      <th>entity_ids</th>\n",
       "    </tr>\n",
       "  </thead>\n",
       "  <tbody>\n",
       "    <tr>\n",
       "      <th>0</th>\n",
       "      <td>0</td>\n",
       "      <td>1711760</td>\n",
       "      <td>23</td>\n",
       "      <td>35</td>\n",
       "      <td>DiseaseOrPhenotypicFeature</td>\n",
       "      <td>hypertension</td>\n",
       "      <td>D006973</td>\n",
       "    </tr>\n",
       "    <tr>\n",
       "      <th>1</th>\n",
       "      <td>1</td>\n",
       "      <td>1711760</td>\n",
       "      <td>49</td>\n",
       "      <td>66</td>\n",
       "      <td>DiseaseOrPhenotypicFeature</td>\n",
       "      <td>cerebral ischemia</td>\n",
       "      <td>D002545</td>\n",
       "    </tr>\n",
       "    <tr>\n",
       "      <th>2</th>\n",
       "      <td>2</td>\n",
       "      <td>1711760</td>\n",
       "      <td>78</td>\n",
       "      <td>89</td>\n",
       "      <td>DiseaseOrPhenotypicFeature</td>\n",
       "      <td>brain edema</td>\n",
       "      <td>D001929</td>\n",
       "    </tr>\n",
       "    <tr>\n",
       "      <th>3</th>\n",
       "      <td>3</td>\n",
       "      <td>1711760</td>\n",
       "      <td>113</td>\n",
       "      <td>125</td>\n",
       "      <td>DiseaseOrPhenotypicFeature</td>\n",
       "      <td>hypertension</td>\n",
       "      <td>D006973</td>\n",
       "    </tr>\n",
       "    <tr>\n",
       "      <th>4</th>\n",
       "      <td>4</td>\n",
       "      <td>1711760</td>\n",
       "      <td>165</td>\n",
       "      <td>197</td>\n",
       "      <td>DiseaseOrPhenotypicFeature</td>\n",
       "      <td>middle cerebral artery occlusion</td>\n",
       "      <td>D020244</td>\n",
       "    </tr>\n",
       "  </tbody>\n",
       "</table>\n",
       "</div>"
      ],
      "text/plain": [
       "   id  abstract_id  offset_start  offset_finish                        type  \\\n",
       "0   0      1711760            23             35  DiseaseOrPhenotypicFeature   \n",
       "1   1      1711760            49             66  DiseaseOrPhenotypicFeature   \n",
       "2   2      1711760            78             89  DiseaseOrPhenotypicFeature   \n",
       "3   3      1711760           113            125  DiseaseOrPhenotypicFeature   \n",
       "4   4      1711760           165            197  DiseaseOrPhenotypicFeature   \n",
       "\n",
       "                            mention entity_ids  \n",
       "0                      hypertension    D006973  \n",
       "1                 cerebral ischemia    D002545  \n",
       "2                       brain edema    D001929  \n",
       "3                      hypertension    D006973  \n",
       "4  middle cerebral artery occlusion    D020244  "
      ]
     },
     "execution_count": 3,
     "metadata": {},
     "output_type": "execute_result"
    }
   ],
   "source": [
    "entities_test_fname = \"../data/test/entities_test.csv\"\n",
    "entities_test_df = pd.read_csv(entities_test_fname,sep='\\t')\n",
    "entities_test_df.head()"
   ]
  },
  {
   "cell_type": "code",
   "execution_count": 4,
   "id": "65cfb57c",
   "metadata": {},
   "outputs": [],
   "source": [
    "test_id2title ={ abs_id: title for abs_id, title in abstracts_test_df[['abstract_id','title']].values }\n",
    "test_id2abstr ={ abs_id: abs_text for abs_id, abs_text in abstracts_test_df[['abstract_id','abstract']].values }"
   ]
  },
  {
   "cell_type": "code",
   "execution_count": 5,
   "id": "af05da28",
   "metadata": {},
   "outputs": [
    {
     "name": "stdout",
     "output_type": "stream",
     "text": [
      "100\n",
      "3263\n"
     ]
    }
   ],
   "source": [
    "print(len(abstracts_test_df))\n",
    "print(len(entities_test_df))"
   ]
  },
  {
   "cell_type": "code",
   "execution_count": 6,
   "id": "72dce7dc",
   "metadata": {},
   "outputs": [],
   "source": [
    "# entity-type dictionary\n",
    "entityid2type ={ entity_ids: type for entity_ids, type in entities_test_df[['entity_ids','type']].values }\n",
    "mention2type = { mention: type for mention, type in entities_test_df[['mention','type']].values }\n",
    "mention2entityid = { mention: entity_ids for mention, entity_ids in entities_test_df[['mention','entity_ids']].values }"
   ]
  },
  {
   "cell_type": "code",
   "execution_count": 7,
   "id": "c07723f3",
   "metadata": {},
   "outputs": [],
   "source": [
    "entity_type_valid = [('GeneOrGeneProduct', 'GeneOrGeneProduct'),\n",
    " ('GeneOrGeneProduct', 'DiseaseOrPhenotypicFeature'),\n",
    " ('ChemicalEntity', 'DiseaseOrPhenotypicFeature'),\n",
    " ('DiseaseOrPhenotypicFeature', 'GeneOrGeneProduct'),\n",
    " ('SequenceVariant', 'DiseaseOrPhenotypicFeature'),\n",
    " ('ChemicalEntity', 'GeneOrGeneProduct'),\n",
    " ('DiseaseOrPhenotypicFeature', 'SequenceVariant'),\n",
    " ('DiseaseOrPhenotypicFeature', 'ChemicalEntity'),\n",
    " ('ChemicalEntity', 'ChemicalEntity'),\n",
    " ('GeneOrGeneProduct', 'ChemicalEntity'),\n",
    " ('SequenceVariant', 'ChemicalEntity'),\n",
    " ('ChemicalEntity', 'SequenceVariant'),\n",
    " ('SequenceVariant', 'SequenceVariant'),\n",
    " ('SequenceVariant', 'GeneOrGeneProduct'),\n",
    " ('GeneOrGeneProduct', 'SequenceVariant')]\n"
   ]
  },
  {
   "cell_type": "code",
   "execution_count": 15,
   "id": "823759b9",
   "metadata": {},
   "outputs": [
    {
     "name": "stdout",
     "output_type": "stream",
     "text": [
      "Requirement already up-to-date: spacy in /opt/conda/lib/python3.8/site-packages (3.2.2)\n",
      "Requirement already satisfied, skipping upgrade: langcodes<4.0.0,>=3.2.0 in /opt/conda/lib/python3.8/site-packages (from spacy) (3.3.0)\n",
      "Requirement already satisfied, skipping upgrade: numpy>=1.15.0 in /opt/conda/lib/python3.8/site-packages (from spacy) (1.20.1)\n",
      "Requirement already satisfied, skipping upgrade: wasabi<1.1.0,>=0.8.1 in /opt/conda/lib/python3.8/site-packages (from spacy) (0.8.2)\n",
      "Requirement already satisfied, skipping upgrade: preshed<3.1.0,>=3.0.2 in /opt/conda/lib/python3.8/site-packages (from spacy) (3.0.2)\n",
      "Requirement already satisfied, skipping upgrade: pathy>=0.3.5 in /opt/conda/lib/python3.8/site-packages (from spacy) (0.6.1)\n",
      "Requirement already satisfied, skipping upgrade: spacy-legacy<3.1.0,>=3.0.8 in /opt/conda/lib/python3.8/site-packages (from spacy) (3.0.8)\n",
      "Requirement already satisfied, skipping upgrade: murmurhash<1.1.0,>=0.28.0 in /opt/conda/lib/python3.8/site-packages (from spacy) (1.0.5)\n",
      "Requirement already satisfied, skipping upgrade: catalogue<2.1.0,>=2.0.6 in /opt/conda/lib/python3.8/site-packages (from spacy) (2.0.6)\n",
      "Requirement already satisfied, skipping upgrade: srsly<3.0.0,>=2.4.1 in /opt/conda/lib/python3.8/site-packages (from spacy) (2.4.2)\n",
      "Requirement already satisfied, skipping upgrade: spacy-loggers<2.0.0,>=1.0.0 in /opt/conda/lib/python3.8/site-packages (from spacy) (1.0.1)\n",
      "Requirement already satisfied, skipping upgrade: jinja2 in /opt/conda/lib/python3.8/site-packages (from spacy) (2.11.3)\n",
      "Requirement already satisfied, skipping upgrade: tqdm<5.0.0,>=4.38.0 in /opt/conda/lib/python3.8/site-packages (from spacy) (4.53.0)\n",
      "Requirement already satisfied, skipping upgrade: cymem<2.1.0,>=2.0.2 in /opt/conda/lib/python3.8/site-packages (from spacy) (2.0.5)\n",
      "Requirement already satisfied, skipping upgrade: packaging>=20.0 in /opt/conda/lib/python3.8/site-packages (from spacy) (20.9)\n",
      "Requirement already satisfied, skipping upgrade: thinc<8.1.0,>=8.0.12 in /opt/conda/lib/python3.8/site-packages (from spacy) (8.0.13)\n",
      "Requirement already satisfied, skipping upgrade: requests<3.0.0,>=2.13.0 in /opt/conda/lib/python3.8/site-packages (from spacy) (2.24.0)\n",
      "Requirement already satisfied, skipping upgrade: setuptools in /opt/conda/lib/python3.8/site-packages (from spacy) (50.3.1.post20201107)\n",
      "Requirement already satisfied, skipping upgrade: pydantic!=1.8,!=1.8.1,<1.9.0,>=1.7.4 in /opt/conda/lib/python3.8/site-packages (from spacy) (1.8.2)\n",
      "Requirement already satisfied, skipping upgrade: typer<0.5.0,>=0.3.0 in /opt/conda/lib/python3.8/site-packages (from spacy) (0.4.0)\n",
      "Requirement already satisfied, skipping upgrade: blis<0.8.0,>=0.4.0 in /opt/conda/lib/python3.8/site-packages (from spacy) (0.7.4)\n",
      "Requirement already satisfied, skipping upgrade: smart-open<6.0.0,>=5.0.0 in /opt/conda/lib/python3.8/site-packages (from pathy>=0.3.5->spacy) (5.2.1)\n",
      "Requirement already satisfied, skipping upgrade: MarkupSafe>=0.23 in /opt/conda/lib/python3.8/site-packages (from jinja2->spacy) (1.1.1)\n",
      "Requirement already satisfied, skipping upgrade: pyparsing>=2.0.2 in /opt/conda/lib/python3.8/site-packages (from packaging>=20.0->spacy) (2.4.7)\n",
      "Requirement already satisfied, skipping upgrade: urllib3!=1.25.0,!=1.25.1,<1.26,>=1.21.1 in /opt/conda/lib/python3.8/site-packages (from requests<3.0.0,>=2.13.0->spacy) (1.25.11)\n",
      "Requirement already satisfied, skipping upgrade: chardet<4,>=3.0.2 in /opt/conda/lib/python3.8/site-packages (from requests<3.0.0,>=2.13.0->spacy) (3.0.4)\n",
      "Requirement already satisfied, skipping upgrade: certifi>=2017.4.17 in /opt/conda/lib/python3.8/site-packages (from requests<3.0.0,>=2.13.0->spacy) (2020.12.5)\n",
      "Requirement already satisfied, skipping upgrade: idna<3,>=2.5 in /opt/conda/lib/python3.8/site-packages (from requests<3.0.0,>=2.13.0->spacy) (2.10)\n",
      "Requirement already satisfied, skipping upgrade: typing-extensions>=3.7.4.3 in /opt/conda/lib/python3.8/site-packages (from pydantic!=1.8,!=1.8.1,<1.9.0,>=1.7.4->spacy) (3.7.4.3)\n",
      "Requirement already satisfied, skipping upgrade: click<9.0.0,>=7.1.1 in /opt/conda/lib/python3.8/site-packages (from typer<0.5.0,>=0.3.0->spacy) (7.1.2)\n"
     ]
    }
   ],
   "source": [
    "!pip install spacy --upgrade"
   ]
  },
  {
   "cell_type": "code",
   "execution_count": 16,
   "id": "d098c637",
   "metadata": {},
   "outputs": [],
   "source": [
    "import spacy\n",
    "#from spacy.lang.en import English"
   ]
  },
  {
   "cell_type": "code",
   "execution_count": 17,
   "id": "d251bda2",
   "metadata": {},
   "outputs": [],
   "source": [
    "#!python -m spacy download en_core_web_sm"
   ]
  },
  {
   "cell_type": "code",
   "execution_count": 18,
   "id": "f9f47ce5",
   "metadata": {},
   "outputs": [],
   "source": [
    "nlp = spacy.load(\"en_core_web_sm\")"
   ]
  },
  {
   "cell_type": "code",
   "execution_count": 19,
   "id": "b9446695",
   "metadata": {},
   "outputs": [],
   "source": [
    "text = test_id2abstr[1711760]"
   ]
  },
  {
   "cell_type": "code",
   "execution_count": 20,
   "id": "5a445c3a",
   "metadata": {},
   "outputs": [
    {
     "name": "stdout",
     "output_type": "stream",
     "text": [
      "Noun phrases: ['The effect', 'induced hypertension', 'a 2-h delay', 'middle cerebral artery occlusion', 'MCAO', 'brain edema formation', 'histochemical injury', 'isoflurane anesthesia', 'the MCA', '14 spontaneously hypertensive rats', 'the control group', '=', 'the mean arterial pressure', 'MAP', 'the hypertensive group', '=', 'the MAP', '25-30 mm', '2 h', 'MCAO', 'MCAO', 'the rats', 'the brains', 'The brains', 'coronal planes', 'the distribution', 'ischemia', 'MCAO', 'Specific gravity', 'SG', 'the subcortex', 'two sites', 'the cortex', 'core', 'periphery', 'the ischemic territory', 'The extent', 'neuronal injury', '2,3,5-triphenyltetrazolium staining', 'the ischemic core', 'no difference', 'SG', 'the subcortex', 'cortex', 'the two groups', 'the periphery', 'the ischemic territory', 'SG', 'the cortex', 'greater (less edema accumulation', 'the hypertensive group', '+', 'P', 'The area', 'histochemical injury', 'a percent', 'the cross-sectional area', 'the hemisphere', 'the hypertensive group', '33 +', '2%', 'P', 'The data', 'phenylephrine-induced hypertension', 'MCAO', 'edema', 'the ischemic core', 'it', 'edema', 'the periphery', 'the ischemic territory', 'it', 'the area', 'histochemical neuronal dysfunction']\n",
      "Verbs: ['induce', 'institute', 'follow', 'study', 'occlude', 'manipulate', 'elevate', 'begin', 'kill', 'harvest', 'section', 'span', 'produce', 'determine', 'determine', 'be', 'indicate', 'induce', 'institute', 'aggravate', 'improve', 'reduce']\n",
      "2 CARDINAL\n",
      "anesthesia GPE\n",
      "MCA ORG\n",
      "14 CARDINAL\n",
      "7 CARDINAL\n",
      "MAP ORG\n",
      "7 CARDINAL\n",
      "MAP ORG\n",
      "25 CARDINAL\n",
      "2 h DATE\n",
      "Four hours TIME\n",
      "SG ORG\n",
      "two CARDINAL\n",
      "SG ORG\n",
      "two CARDINAL\n",
      "SG ORG\n",
      "1.041 + CARDINAL\n",
      "0.001 CARDINAL\n",
      "1.039 + DATE\n",
      "0.001 CARDINAL\n",
      "less than 0.05 CARDINAL\n",
      "33 + CARDINAL\n",
      "3% PERCENT\n",
      "21 + DATE\n",
      "2% PERCENT\n",
      "less than 0.05 CARDINAL\n",
      "2 CARDINAL\n"
     ]
    }
   ],
   "source": [
    "doc = nlp(text)\n",
    "print(\"Noun phrases:\", [chunk.text for chunk in doc.noun_chunks])\n",
    "print(\"Verbs:\", [token.lemma_ for token in doc if token.pos_ == \"VERB\"])\n",
    "for entity in doc.ents:\n",
    "    print(entity.text, entity.label_)\n"
   ]
  },
  {
   "cell_type": "code",
   "execution_count": 35,
   "id": "c90e4b0d",
   "metadata": {},
   "outputs": [],
   "source": [
    "def getSentences(text):\n",
    "    return [sent for sent in doc.sents]\n",
    "    "
   ]
  },
  {
   "cell_type": "code",
   "execution_count": 32,
   "id": "9d6c9c48",
   "metadata": {},
   "outputs": [],
   "source": [
    "def printToken(token):\n",
    "    print(token.text, \"->\", token.dep_)"
   ]
  },
  {
   "cell_type": "code",
   "execution_count": 36,
   "id": "71a07a6c",
   "metadata": {},
   "outputs": [
    {
     "data": {
      "text/plain": [
       "[The effect of induced hypertension instituted after a 2-h delay following middle cerebral artery occlusion (MCAO) on brain edema formation and histochemical injury was studied.,\n",
       " Under isoflurane anesthesia, the MCA of 14 spontaneously hypertensive rats was occluded.,\n",
       " In the control group (n = 7), the mean arterial pressure (MAP) was not manipulated.,\n",
       " In the hypertensive group (n = 7), the MAP was elevated by 25-30 mm,\n",
       " Hg beginning 2 h after MCAO.,\n",
       " Four hours after MCAO, the rats were killed and the brains harvested.,\n",
       " The brains were sectioned along coronal planes spanning the distribution of ischemia produced by MCAO.,\n",
       " Specific gravity (SG) was determined in the subcortex and in two sites in the cortex (core and periphery of the ischemic territory).,\n",
       " The extent of neuronal injury was determined by 2,3,5-triphenyltetrazolium staining.,\n",
       " In the ischemic core, there was no difference in SG in the subcortex and cortex in the two groups.,\n",
       " In the periphery of the ischemic territory, SG in the cortex was greater (less edema accumulation) in the hypertensive group (1.041 +/- 0.001,\n",
       " vs 1.039 +/- 0.001, P less than 0.05).,\n",
       " The area of histochemical injury (as a percent of the cross-sectional area of the hemisphere) was less in the hypertensive group (33 +/- 3% vs 21 +/- 2%, P less than 0.05).,\n",
       " The data indicate that phenylephrine-induced hypertension instituted 2 h after MCAO does not aggravate edema in the ischemic core, that it improves edema in the periphery of the ischemic territory, and that it reduces the area of histochemical neuronal dysfunction.]"
      ]
     },
     "execution_count": 36,
     "metadata": {},
     "output_type": "execute_result"
    }
   ],
   "source": [
    "getSentences(text)"
   ]
  },
  {
   "cell_type": "code",
   "execution_count": 37,
   "id": "6a39d68f",
   "metadata": {},
   "outputs": [],
   "source": [
    "def appendChunk(original, chunk):\n",
    "    return original + ' ' + chunk"
   ]
  },
  {
   "cell_type": "code",
   "execution_count": 38,
   "id": "d7d2583e",
   "metadata": {},
   "outputs": [],
   "source": [
    "def isRelationCandidate(token):\n",
    "    deps = [\"ROOT\", \"adj\", \"attr\", \"agent\", \"amod\"]\n",
    "    return any(subs in token.dep_ for subs in deps)"
   ]
  },
  {
   "cell_type": "code",
   "execution_count": 40,
   "id": "0a9735fe",
   "metadata": {},
   "outputs": [],
   "source": [
    "def isConstructionCandidate(token):\n",
    "    deps = [\"compound\", \"prep\", \"conj\", \"mod\"]\n",
    "    return any(subs in token.dep_ for subs in deps)"
   ]
  },
  {
   "cell_type": "code",
   "execution_count": 51,
   "id": "a1295319",
   "metadata": {},
   "outputs": [],
   "source": [
    "def processSubjectObjectPairs(tokens):\n",
    "    subject = ''\n",
    "    object = ''\n",
    "    relation = ''\n",
    "    subjectConstruction = ''\n",
    "    objectConstruction = ''\n",
    "    for token in tokens:\n",
    "        printToken(token)\n",
    "        if \"punct\" in token.dep_:\n",
    "            continue\n",
    "        if isRelationCandidate(token):\n",
    "            relation = appendChunk(relation, token.lemma_)\n",
    "        if isConstructionCandidate(token):\n",
    "            if subjectConstruction:\n",
    "                subjectConstruction = appendChunk(subjectConstruction, token.text)\n",
    "            if objectConstruction:\n",
    "                objectConstruction = appendChunk(objectConstruction, token.text)\n",
    "        if \"subj\" in token.dep_:\n",
    "            subject = appendChunk(subject, token.text)\n",
    "            subject = appendChunk(subjectConstruction, subject)\n",
    "            subjectConstruction = ''\n",
    "        if \"obj\" in token.dep_:\n",
    "            object = appendChunk(object, token.text)\n",
    "            object = appendChunk(objectConstruction, object)\n",
    "            objectConstruction = ''\n",
    "\n",
    "    print ('sub', subject.strip(), \",pred:\", relation.strip(), \",obj\", object.strip())\n",
    "    return (subject.strip(), relation.strip(), object.strip())"
   ]
  },
  {
   "cell_type": "code",
   "execution_count": 52,
   "id": "24a7f049",
   "metadata": {},
   "outputs": [],
   "source": [
    "def processSentence(sentence):\n",
    "    tokens = nlp(sentence)\n",
    "    return processSubjectObjectPairs(tokens)"
   ]
  },
  {
   "cell_type": "code",
   "execution_count": 54,
   "id": "eecb717c",
   "metadata": {},
   "outputs": [
    {
     "name": "stdout",
     "output_type": "stream",
     "text": [
      "The effect of induced hypertension instituted after a 2-h delay following middle cerebral artery occlusion (MCAO) on brain edema formation and histochemical injury was studied.\n",
      "The -> det\n",
      "effect -> nsubjpass\n",
      "of -> prep\n",
      "induced -> amod\n",
      "hypertension -> pobj\n",
      "instituted -> acl\n",
      "after -> prep\n",
      "a -> det\n",
      "2 -> nummod\n",
      "- -> punct\n",
      "h -> compound\n",
      "delay -> pobj\n",
      "following -> prep\n",
      "middle -> amod\n",
      "cerebral -> amod\n",
      "artery -> compound\n",
      "occlusion -> pobj\n",
      "( -> punct\n",
      "MCAO -> appos\n",
      ") -> punct\n",
      "on -> prep\n",
      "brain -> compound\n",
      "edema -> compound\n",
      "formation -> pobj\n",
      "and -> cc\n",
      "histochemical -> amod\n",
      "injury -> conj\n",
      "was -> auxpass\n",
      "studied -> ROOT\n",
      ". -> punct\n",
      "sub effect ,pred: induce middle cerebral histochemical study ,obj hypertension delay occlusion formation\n"
     ]
    }
   ],
   "source": [
    "for sent in getSentences(text):\n",
    "    print (sent)\n",
    "    processSentence(str(sent))\n",
    "    break"
   ]
  },
  {
   "cell_type": "code",
   "execution_count": 21,
   "id": "f80cb6b7",
   "metadata": {},
   "outputs": [],
   "source": [
    "# generete test dataset file\n",
    "sentence2entitise = defaultdict(list)\n",
    "# entity_infos = defaultdict(list)\n",
    "sentence_infos = dict()\n",
    "relation_candidates = []\n",
    "for key, df in entities_test_df.groupby('abstract_id'):\n",
    "    #print (key)\n",
    "    #if key == 1353340:\n",
    "    text = test_id2title[key] + ' ' + test_id2abstr[key]\n",
    "    sentences = text.split('. ')\n",
    "    entity_infos = dict()\n",
    "    mention2entityid = {}\n",
    "    sen2ents = {}\n",
    "    for i, row in df.iterrows():\n",
    "        entity_infos[row['offset_start'], row['offset_finish']] = row['mention']\n",
    "        mention2entityid[row['mention']] = row['entity_ids']\n",
    "        entity= row['mention']\n",
    "\n",
    "#     for idx in range(len(sentences)):\n",
    "#         if idx == 0:\n",
    "#             sent_left = 0\n",
    "#             sent_right = len(sentences[idx]+'. ')\n",
    "#         else:\n",
    "#             sent_left = sent_right #+ 1\n",
    "#             sent_right += len(sentences[idx]+'. ')\n",
    "#         for entity_pos in entity_infos.keys():\n",
    "#             if entity_pos[0] > sent_left and entity_pos[1] < sent_right:\n",
    "#                 sentence2entitise[sentences[idx]].append(entity_infos[entity_pos])\n",
    "    #print (mention2entityid)\n",
    "    for s in sentences:\n",
    "        entities =[]\n",
    "        for m in mention2entityid:\n",
    "            if m in s:\n",
    "                entities.append(m)\n",
    "        #entities = sen2ents[s]\n",
    "\n",
    "        entities = list(set(entities))\n",
    "        #print (entities)\n",
    "        comb = permutations(entities, 2)\n",
    "        for c in comb:\n",
    "            # move entiy1 == entity2\n",
    "#             if c[0] == c[1]:\n",
    "#                 continue\n",
    "            if (mention2type[c[0]], mention2type[c[1]]) in entity_type_valid:\n",
    "                #abstract_id = key\n",
    "                #sentence = s\n",
    "                #entity1_mention = c[0]\n",
    "                #entity2_mention = c[1]\n",
    "                #entity1_id = mention2entityid[c[0]]\n",
    "                relation_candidates.append([key, s, c[0], c[1], mention2entityid[c[0]], mention2entityid[c[1]]])\n",
    "    "
   ]
  },
  {
   "cell_type": "code",
   "execution_count": 19,
   "id": "07bf56f5",
   "metadata": {},
   "outputs": [],
   "source": [
    "dataset_df =pd.DataFrame(relation_candidates, \n",
    "                         columns=['abstract_id','sentence','entity_1_mention','entity_2_mention','entity_1_id','entity_2_id'])"
   ]
  },
  {
   "cell_type": "code",
   "execution_count": 15,
   "id": "a7e53df7",
   "metadata": {},
   "outputs": [
    {
     "data": {
      "text/html": [
       "<div>\n",
       "<style scoped>\n",
       "    .dataframe tbody tr th:only-of-type {\n",
       "        vertical-align: middle;\n",
       "    }\n",
       "\n",
       "    .dataframe tbody tr th {\n",
       "        vertical-align: top;\n",
       "    }\n",
       "\n",
       "    .dataframe thead th {\n",
       "        text-align: right;\n",
       "    }\n",
       "</style>\n",
       "<table border=\"1\" class=\"dataframe\">\n",
       "  <thead>\n",
       "    <tr style=\"text-align: right;\">\n",
       "      <th></th>\n",
       "      <th>abstract_id</th>\n",
       "      <th>sentence</th>\n",
       "      <th>entity_1_mention</th>\n",
       "      <th>entity_2_mention</th>\n",
       "      <th>entity_1_id</th>\n",
       "      <th>entity_2_id</th>\n",
       "    </tr>\n",
       "  </thead>\n",
       "  <tbody>\n",
       "    <tr>\n",
       "      <th>4578</th>\n",
       "      <td>22369755</td>\n",
       "      <td>These pro-oncogenic effects of NNK were abolis...</td>\n",
       "      <td>SLURP-1</td>\n",
       "      <td>NNK</td>\n",
       "      <td>57152</td>\n",
       "      <td>C016583</td>\n",
       "    </tr>\n",
       "    <tr>\n",
       "      <th>117</th>\n",
       "      <td>14510914</td>\n",
       "      <td>The diagnosis of ITD was suspected because of ...</td>\n",
       "      <td>iodide</td>\n",
       "      <td>ITD</td>\n",
       "      <td>D007454</td>\n",
       "      <td>C564766</td>\n",
       "    </tr>\n",
       "    <tr>\n",
       "      <th>4849</th>\n",
       "      <td>24114426</td>\n",
       "      <td>RATIONALE: Ecstasy (3,4-methylenedioxymethamph...</td>\n",
       "      <td>MDMA</td>\n",
       "      <td>3,4-methylenedioxymethamphetamine</td>\n",
       "      <td>D018817</td>\n",
       "      <td>D018817</td>\n",
       "    </tr>\n",
       "    <tr>\n",
       "      <th>866</th>\n",
       "      <td>15824163</td>\n",
       "      <td>Germ line mutations in BRAF have not been iden...</td>\n",
       "      <td>melanoma</td>\n",
       "      <td>BRAF</td>\n",
       "      <td>D008545</td>\n",
       "      <td>673</td>\n",
       "    </tr>\n",
       "    <tr>\n",
       "      <th>4563</th>\n",
       "      <td>22369755</td>\n",
       "      <td>NNK decreased expression of the CTNNB1 gene en...</td>\n",
       "      <td>FOXD3</td>\n",
       "      <td>tumor</td>\n",
       "      <td>27022</td>\n",
       "      <td>D009369</td>\n",
       "    </tr>\n",
       "  </tbody>\n",
       "</table>\n",
       "</div>"
      ],
      "text/plain": [
       "      abstract_id                                           sentence  \\\n",
       "4578     22369755  These pro-oncogenic effects of NNK were abolis...   \n",
       "117      14510914  The diagnosis of ITD was suspected because of ...   \n",
       "4849     24114426  RATIONALE: Ecstasy (3,4-methylenedioxymethamph...   \n",
       "866      15824163  Germ line mutations in BRAF have not been iden...   \n",
       "4563     22369755  NNK decreased expression of the CTNNB1 gene en...   \n",
       "\n",
       "     entity_1_mention                   entity_2_mention entity_1_id  \\\n",
       "4578          SLURP-1                                NNK       57152   \n",
       "117            iodide                                ITD     D007454   \n",
       "4849             MDMA  3,4-methylenedioxymethamphetamine     D018817   \n",
       "866          melanoma                               BRAF     D008545   \n",
       "4563            FOXD3                              tumor       27022   \n",
       "\n",
       "     entity_2_id  \n",
       "4578     C016583  \n",
       "117      C564766  \n",
       "4849     D018817  \n",
       "866          673  \n",
       "4563     D009369  "
      ]
     },
     "execution_count": 15,
     "metadata": {},
     "output_type": "execute_result"
    }
   ],
   "source": [
    "dataset_df.sample(5)"
   ]
  },
  {
   "cell_type": "code",
   "execution_count": 16,
   "id": "9b71e1d9",
   "metadata": {},
   "outputs": [
    {
     "data": {
      "text/plain": [
       "8480"
      ]
     },
     "execution_count": 16,
     "metadata": {},
     "output_type": "execute_result"
    }
   ],
   "source": [
    "len(dataset_df)"
   ]
  },
  {
   "cell_type": "code",
   "execution_count": 17,
   "id": "8d3906c5",
   "metadata": {},
   "outputs": [],
   "source": [
    "dataset_df.to_csv('../data/test_data2.csv',index=None)"
   ]
  },
  {
   "cell_type": "code",
   "execution_count": null,
   "id": "ad81151f",
   "metadata": {},
   "outputs": [],
   "source": []
  }
 ],
 "metadata": {
  "kernelspec": {
   "display_name": "Python 3",
   "language": "python",
   "name": "python3"
  },
  "language_info": {
   "codemirror_mode": {
    "name": "ipython",
    "version": 3
   },
   "file_extension": ".py",
   "mimetype": "text/x-python",
   "name": "python",
   "nbconvert_exporter": "python",
   "pygments_lexer": "ipython3",
   "version": "3.8.8"
  }
 },
 "nbformat": 4,
 "nbformat_minor": 5
}
