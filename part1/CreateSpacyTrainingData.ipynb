{
 "cells": [
  {
   "cell_type": "code",
   "execution_count": 6,
   "id": "9a3dff2f",
   "metadata": {
    "id": "d2313a47-2c05-45d8-af6f-f692d3607d65"
   },
   "outputs": [],
   "source": [
    "import pandas as pd"
   ]
  },
  {
   "cell_type": "code",
   "execution_count": 4,
   "id": "5eacac7c",
   "metadata": {
    "id": "ddffb640-98cb-49ea-b5b8-ab70d659d570"
   },
   "outputs": [],
   "source": [
    "import pandas as pd\n",
    "import re\n",
    "import random\n",
    "import spacy\n",
    "from spacy.util import minibatch, compounding\n",
    "import warnings\n",
    "import matplotlib.pyplot as plt"
   ]
  },
  {
   "cell_type": "code",
   "execution_count": 9,
   "id": "a66b310a",
   "metadata": {
    "colab": {
     "base_uri": "https://localhost:8080/",
     "height": 206
    },
    "id": "2533d03d-af28-41fe-b55f-e0a61e84b443",
    "outputId": "012a6923-5315-49a8-ae53-79945332d140"
   },
   "outputs": [
    {
     "data": {
      "text/html": [
       "<div>\n",
       "<style scoped>\n",
       "    .dataframe tbody tr th:only-of-type {\n",
       "        vertical-align: middle;\n",
       "    }\n",
       "\n",
       "    .dataframe tbody tr th {\n",
       "        vertical-align: top;\n",
       "    }\n",
       "\n",
       "    .dataframe thead th {\n",
       "        text-align: right;\n",
       "    }\n",
       "</style>\n",
       "<table border=\"1\" class=\"dataframe\">\n",
       "  <thead>\n",
       "    <tr style=\"text-align: right;\">\n",
       "      <th></th>\n",
       "      <th>abstract_id</th>\n",
       "      <th>title</th>\n",
       "      <th>abstract</th>\n",
       "    </tr>\n",
       "  </thead>\n",
       "  <tbody>\n",
       "    <tr>\n",
       "      <th>0</th>\n",
       "      <td>1353340</td>\n",
       "      <td>Late-onset metachromatic leukodystrophy: molec...</td>\n",
       "      <td>We report on a new allele at the arylsulfatase...</td>\n",
       "    </tr>\n",
       "    <tr>\n",
       "      <th>1</th>\n",
       "      <td>1671881</td>\n",
       "      <td>Two distinct mutations at a single BamHI site ...</td>\n",
       "      <td>Classical phenylketonuria is an autosomal rece...</td>\n",
       "    </tr>\n",
       "    <tr>\n",
       "      <th>2</th>\n",
       "      <td>1848636</td>\n",
       "      <td>Debrisoquine phenotype and the pharmacokinetic...</td>\n",
       "      <td>The metabolism of the cardioselective beta-blo...</td>\n",
       "    </tr>\n",
       "    <tr>\n",
       "      <th>3</th>\n",
       "      <td>2422478</td>\n",
       "      <td>Midline B3 serotonin nerves in rat medulla are...</td>\n",
       "      <td>Previous experiments in this laboratory have s...</td>\n",
       "    </tr>\n",
       "    <tr>\n",
       "      <th>4</th>\n",
       "      <td>2491010</td>\n",
       "      <td>Molecular and phenotypic analysis of patients ...</td>\n",
       "      <td>Eighty unrelated individuals with Duchenne mus...</td>\n",
       "    </tr>\n",
       "  </tbody>\n",
       "</table>\n",
       "</div>"
      ],
      "text/plain": [
       "   abstract_id                                              title  \\\n",
       "0      1353340  Late-onset metachromatic leukodystrophy: molec...   \n",
       "1      1671881  Two distinct mutations at a single BamHI site ...   \n",
       "2      1848636  Debrisoquine phenotype and the pharmacokinetic...   \n",
       "3      2422478  Midline B3 serotonin nerves in rat medulla are...   \n",
       "4      2491010  Molecular and phenotypic analysis of patients ...   \n",
       "\n",
       "                                            abstract  \n",
       "0  We report on a new allele at the arylsulfatase...  \n",
       "1  Classical phenylketonuria is an autosomal rece...  \n",
       "2  The metabolism of the cardioselective beta-blo...  \n",
       "3  Previous experiments in this laboratory have s...  \n",
       "4  Eighty unrelated individuals with Duchenne mus...  "
      ]
     },
     "execution_count": 9,
     "metadata": {},
     "output_type": "execute_result"
    }
   ],
   "source": [
    "# read in the food csv file\n",
    "abstracts_df = pd.read_csv('../part2/data/abstracts_train.csv', sep='\\t')\n",
    "\n",
    "# print row and column information\n",
    "abstracts_df.head()"
   ]
  },
  {
   "cell_type": "code",
   "execution_count": 10,
   "id": "e4b04420",
   "metadata": {
    "colab": {
     "base_uri": "https://localhost:8080/"
    },
    "id": "-hhG_Tme95-3",
    "outputId": "9db7b194-da9a-4377-ebc0-8c8a1f38a814"
   },
   "outputs": [
    {
     "data": {
      "text/plain": [
       "(400, 3)"
      ]
     },
     "execution_count": 10,
     "metadata": {},
     "output_type": "execute_result"
    }
   ],
   "source": [
    "abstracts_df.shape"
   ]
  },
  {
   "cell_type": "code",
   "execution_count": 11,
   "id": "b2f59c86",
   "metadata": {
    "colab": {
     "base_uri": "https://localhost:8080/"
    },
    "id": "62fec1a9-0112-4116-9681-7956e29343c0",
    "outputId": "047d034e-dd95-431f-a2e4-b40ad7bf6822"
   },
   "outputs": [
    {
     "data": {
      "text/plain": [
       "400"
      ]
     },
     "execution_count": 11,
     "metadata": {},
     "output_type": "execute_result"
    }
   ],
   "source": [
    "# print the size \n",
    "abstracts_df[\"abstract\"].size"
   ]
  },
  {
   "cell_type": "code",
   "execution_count": 12,
   "id": "41d0dc46",
   "metadata": {
    "colab": {
     "base_uri": "https://localhost:8080/"
    },
    "id": "d23f9b3d-ee9e-410f-8c5d-cb43f894c2b3",
    "outputId": "643cd5cf-ad19-4c34-ecac-b2715eeee2fc"
   },
   "outputs": [
    {
     "data": {
      "text/plain": [
       "400"
      ]
     },
     "execution_count": 12,
     "metadata": {},
     "output_type": "execute_result"
    }
   ],
   "source": [
    "texts=  abstracts_df[\"abstract\"].apply(lambda text: text.lower())\n",
    "# filter out foods with more than 3 words, drop any duplicates\n",
    "#texts = texts[texts.str.split().apply(len) <= 3].drop_duplicates()\n",
    "\n",
    "# print the size of the documents\n",
    "texts.size"
   ]
  },
  {
   "cell_type": "code",
   "execution_count": 13,
   "id": "71475a49",
   "metadata": {
    "colab": {
     "base_uri": "https://localhost:8080/",
     "height": 285
    },
    "id": "157a1262-0411-4d32-961c-8dbf04f47dbd",
    "outputId": "6bb3f2db-593d-44d3-d0ea-37144b9d401c"
   },
   "outputs": [
    {
     "data": {
      "text/html": [
       "<div>\n",
       "<style scoped>\n",
       "    .dataframe tbody tr th:only-of-type {\n",
       "        vertical-align: middle;\n",
       "    }\n",
       "\n",
       "    .dataframe tbody tr th {\n",
       "        vertical-align: top;\n",
       "    }\n",
       "\n",
       "    .dataframe thead th {\n",
       "        text-align: right;\n",
       "    }\n",
       "</style>\n",
       "<table border=\"1\" class=\"dataframe\">\n",
       "  <thead>\n",
       "    <tr style=\"text-align: right;\">\n",
       "      <th></th>\n",
       "      <th>id</th>\n",
       "      <th>abstract_id</th>\n",
       "      <th>offset_start</th>\n",
       "      <th>offset_finish</th>\n",
       "      <th>type</th>\n",
       "      <th>mention</th>\n",
       "      <th>entity_ids</th>\n",
       "    </tr>\n",
       "  </thead>\n",
       "  <tbody>\n",
       "    <tr>\n",
       "      <th>0</th>\n",
       "      <td>0</td>\n",
       "      <td>1353340</td>\n",
       "      <td>11</td>\n",
       "      <td>39</td>\n",
       "      <td>DiseaseOrPhenotypicFeature</td>\n",
       "      <td>metachromatic leukodystrophy</td>\n",
       "      <td>D007966</td>\n",
       "    </tr>\n",
       "    <tr>\n",
       "      <th>1</th>\n",
       "      <td>1</td>\n",
       "      <td>1353340</td>\n",
       "      <td>111</td>\n",
       "      <td>126</td>\n",
       "      <td>GeneOrGeneProduct</td>\n",
       "      <td>arylsulfatase A</td>\n",
       "      <td>410</td>\n",
       "    </tr>\n",
       "    <tr>\n",
       "      <th>2</th>\n",
       "      <td>2</td>\n",
       "      <td>1353340</td>\n",
       "      <td>128</td>\n",
       "      <td>132</td>\n",
       "      <td>GeneOrGeneProduct</td>\n",
       "      <td>ARSA</td>\n",
       "      <td>410</td>\n",
       "    </tr>\n",
       "    <tr>\n",
       "      <th>3</th>\n",
       "      <td>3</td>\n",
       "      <td>1353340</td>\n",
       "      <td>159</td>\n",
       "      <td>187</td>\n",
       "      <td>DiseaseOrPhenotypicFeature</td>\n",
       "      <td>metachromatic leukodystrophy</td>\n",
       "      <td>D007966</td>\n",
       "    </tr>\n",
       "    <tr>\n",
       "      <th>4</th>\n",
       "      <td>4</td>\n",
       "      <td>1353340</td>\n",
       "      <td>189</td>\n",
       "      <td>192</td>\n",
       "      <td>DiseaseOrPhenotypicFeature</td>\n",
       "      <td>MLD</td>\n",
       "      <td>D007966</td>\n",
       "    </tr>\n",
       "  </tbody>\n",
       "</table>\n",
       "</div>"
      ],
      "text/plain": [
       "   id  abstract_id  offset_start  offset_finish                        type  \\\n",
       "0   0      1353340            11             39  DiseaseOrPhenotypicFeature   \n",
       "1   1      1353340           111            126           GeneOrGeneProduct   \n",
       "2   2      1353340           128            132           GeneOrGeneProduct   \n",
       "3   3      1353340           159            187  DiseaseOrPhenotypicFeature   \n",
       "4   4      1353340           189            192  DiseaseOrPhenotypicFeature   \n",
       "\n",
       "                        mention entity_ids  \n",
       "0  metachromatic leukodystrophy    D007966  \n",
       "1               arylsulfatase A        410  \n",
       "2                          ARSA        410  \n",
       "3  metachromatic leukodystrophy    D007966  \n",
       "4                           MLD    D007966  "
      ]
     },
     "execution_count": 13,
     "metadata": {},
     "output_type": "execute_result"
    }
   ],
   "source": [
    "entities_df = pd.read_csv('../part2/data/entities_train.csv', sep='\\t')\n",
    "entities_df.head()"
   ]
  },
  {
   "cell_type": "code",
   "execution_count": 14,
   "id": "531a001d",
   "metadata": {
    "colab": {
     "base_uri": "https://localhost:8080/"
    },
    "id": "FYBtFW-2Thh2",
    "outputId": "4096b2d2-0b12-4768-8481-8a5d8cc75d21"
   },
   "outputs": [
    {
     "data": {
      "text/plain": [
       "array(['DiseaseOrPhenotypicFeature', 'GeneOrGeneProduct',\n",
       "       'SequenceVariant', 'OrganismTaxon', 'ChemicalEntity', 'CellLine'],\n",
       "      dtype=object)"
      ]
     },
     "execution_count": 14,
     "metadata": {},
     "output_type": "execute_result"
    }
   ],
   "source": [
    "entities_df['type'].unique()"
   ]
  },
  {
   "cell_type": "code",
   "execution_count": 15,
   "id": "19a9071a",
   "metadata": {
    "id": "bcd92eee-b547-4a3c-a399-52cfe496f598"
   },
   "outputs": [],
   "source": [
    "id2abstr ={ abs_id: abs_text for abs_id, abs_text in abstracts_df[['abstract_id','abstract']].values }"
   ]
  },
  {
   "cell_type": "code",
   "execution_count": 16,
   "id": "663a6dbb",
   "metadata": {
    "id": "5626a528-59be-4875-8714-84e2f1a63686"
   },
   "outputs": [],
   "source": [
    "id2title ={ abs_id: title for abs_id, title in abstracts_df[['abstract_id','title']].values }"
   ]
  },
  {
   "cell_type": "code",
   "execution_count": 17,
   "id": "9ec338b1",
   "metadata": {
    "colab": {
     "base_uri": "https://localhost:8080/"
    },
    "id": "beaba808-df63-4cfe-ab6d-b88f658bef5d",
    "outputId": "ef78b472-62de-4693-cf4e-0638b7985885"
   },
   "outputs": [],
   "source": [
    "# create training and valid NER corpus using spacy format\n",
    "training_data =[]\n",
    "\n",
    "for key, df in entities_df.groupby('abstract_id'):\n",
    "    #print (key)\n",
    "    entity_mentions = []\n",
    "    text = id2title[key]+' '+id2abstr[key]\n",
    "    text = text.lower()\n",
    "    for i, row in df.iterrows():\n",
    "          entity_mention = (row['offset_start'], row['offset_finish'],row['type'])\n",
    "          #print (text[row['offset_start']:row['offset_finish']])\n",
    "          entity_mentions.append(entity_mention)\n",
    "    training_data.append( (text,  {'entities': entity_mentions}))\n",
    "                                                       "
   ]
  },
  {
   "cell_type": "code",
   "execution_count": 18,
   "id": "0e81abbd",
   "metadata": {
    "colab": {
     "base_uri": "https://localhost:8080/"
    },
    "id": "86cca118-acee-4e3f-9798-6a08971b2858",
    "outputId": "3f8c1781-fed5-44f0-8ed6-932fb101af61"
   },
   "outputs": [
    {
     "data": {
      "text/plain": [
       "40"
      ]
     },
     "execution_count": 18,
     "metadata": {},
     "output_type": "execute_result"
    }
   ],
   "source": [
    "# split the data into training and validation\n",
    "train_size = int(len(training_data)*90/100)\n",
    "test_size = len(training_data) - train_size\n",
    "test_size"
   ]
  },
  {
   "cell_type": "code",
   "execution_count": 19,
   "id": "94f7caaa",
   "metadata": {
    "id": "T7mVf7PPXifV"
   },
   "outputs": [],
   "source": [
    "def select_subset_of_overlapping_chain(\n",
    "    chain ):\n",
    "    \"\"\"\n",
    "    Select the subset of entities in an overlapping chain to return by greedily choosing the\n",
    "    longest entity in the chain until there are no entities remaining\n",
    "    \"\"\"\n",
    "    sorted_chain = sorted(chain, key=lambda x: x[1] - x[0], reverse=True)\n",
    "    selections_from_chain = []\n",
    "    chain_index = 0\n",
    "    # dump the current chain by greedily keeping the longest entity that doesn't overlap\n",
    "    while chain_index < len(sorted_chain):\n",
    "        entity = sorted_chain[chain_index]\n",
    "        match_found = False\n",
    "        for already_selected_entity in selections_from_chain:\n",
    "            max_start = max(entity[0], already_selected_entity[0])\n",
    "            min_end = min(entity[1], already_selected_entity[1])\n",
    "            if len(range(max_start, min_end)) > 0:\n",
    "                match_found = True\n",
    "                break\n",
    "\n",
    "        if not match_found:\n",
    "            selections_from_chain.append(entity)\n",
    "\n",
    "        chain_index += 1\n",
    "\n",
    "    return selections_from_chain"
   ]
  },
  {
   "cell_type": "code",
   "execution_count": 20,
   "id": "8e4bc107",
   "metadata": {
    "id": "8JfGPII9eY25"
   },
   "outputs": [],
   "source": [
    "def getOverlap(a, b):\n",
    "  return max(0, min(a[1], b[1]) - max(a[0], b[0]))"
   ]
  },
  {
   "cell_type": "code",
   "execution_count": 21,
   "id": "9d47d37d",
   "metadata": {
    "id": "Fu5A2rJ2Wkn2"
   },
   "outputs": [],
   "source": [
    "def remove_overlapping_entities(\n",
    "  sorted_spacy_format_entities):\n",
    "  \"\"\"\n",
    "  Removes overlapping entities from the entity set, by greedilytaking the longest\n",
    "  entity from each overlapping chain. The input list of entities should be sorted\n",
    "  and follow the spacy format.\n",
    "  \"\"\"\n",
    "\n",
    "  sorted_spacy_format_entities= sorted(sorted_spacy_format_entities, key=lambda x: x[0])\n",
    "  spacy_format_entities_without_overlap = []\n",
    "  current_overlapping_chain = []\n",
    "  current_overlapping_chain_start = 0\n",
    "  current_overlapping_chain_end = 0\n",
    "  for i, current_entity in enumerate(sorted_spacy_format_entities):\n",
    "    current_entity = sorted_spacy_format_entities[i]\n",
    "    current_entity_start = int(current_entity[0])\n",
    "    current_entity_end = int(current_entity[1])\n",
    "\n",
    "    if len(current_overlapping_chain) == 0:\n",
    "        current_overlapping_chain.append(current_entity)\n",
    "        current_overlapping_chain_start = current_entity_start\n",
    "        current_overlapping_chain_end = current_entity_end\n",
    "    else:\n",
    "        min_end = min(current_entity_end, current_overlapping_chain_end)\n",
    "        max_start = max(current_entity_start, current_overlapping_chain_start)\n",
    "        if min_end - max_start > 0:\n",
    "            current_overlapping_chain.append(current_entity)\n",
    "            current_overlapping_chain_start = min(\n",
    "                current_entity_start, current_overlapping_chain_start\n",
    "            )\n",
    "            current_overlapping_chain_end = max(\n",
    "                current_entity_end, current_overlapping_chain_end\n",
    "            )\n",
    "        else:\n",
    "            selections_from_chain = select_subset_of_overlapping_chain(\n",
    "                current_overlapping_chain\n",
    "            )\n",
    "\n",
    "            current_overlapping_chain = []\n",
    "            spacy_format_entities_without_overlap.extend(selections_from_chain)\n",
    "            current_overlapping_chain.append(current_entity)\n",
    "            current_overlapping_chain_start = current_entity_start\n",
    "            current_overlapping_chain_end = current_entity_end\n",
    "\n",
    "  spacy_format_entities_without_overlap.extend(\n",
    "      select_subset_of_overlapping_chain(current_overlapping_chain)\n",
    "  )\n",
    "\n",
    "  return sorted(spacy_format_entities_without_overlap, key=lambda x: x[0])"
   ]
  },
  {
   "cell_type": "code",
   "execution_count": 22,
   "id": "34545659",
   "metadata": {
    "colab": {
     "base_uri": "https://localhost:8080/"
    },
    "id": "xq7M8h22hFXs",
    "outputId": "8d053550-4c57-4808-db93-8a5b5a5dd2d0"
   },
   "outputs": [
    {
     "name": "stdout",
     "output_type": "stream",
     "text": [
      "[(198, 211, 'ChemicalEntity')]\n"
     ]
    }
   ],
   "source": [
    "test_entities = [(198, 211, 'ChemicalEntity'), (198, 210, 'ChemicalEntity')]\n",
    "result = remove_overlapping_entities(test_entities)\n",
    "print (result)\n",
    "assert result == [(198, 211, 'ChemicalEntity')]"
   ]
  },
  {
   "cell_type": "code",
   "execution_count": 23,
   "id": "226dd55c",
   "metadata": {
    "colab": {
     "base_uri": "https://localhost:8080/"
    },
    "id": "KXR1PZS4hK40",
    "outputId": "736a7b72-c412-442f-a841-3a77bf3a87df"
   },
   "outputs": [
    {
     "data": {
      "text/plain": [
       "[(0, 12, 'ChemicalEntity'),\n",
       " (52, 67, 'GeneOrGeneProduct'),\n",
       " (88, 98, 'ChemicalEntity'),\n",
       " (171, 181, 'ChemicalEntity'),\n",
       " (214, 226, 'ChemicalEntity'),\n",
       " (227, 236, 'ChemicalEntity'),\n",
       " (390, 409, 'GeneOrGeneProduct'),\n",
       " (442, 452, 'ChemicalEntity'),\n",
       " (511, 530, 'GeneOrGeneProduct'),\n",
       " (545, 555, 'ChemicalEntity'),\n",
       " (603, 613, 'ChemicalEntity'),\n",
       " (617, 628, 'ChemicalEntity'),\n",
       " (637, 648, 'DiseaseOrPhenotypicFeature'),\n",
       " (732, 742, 'ChemicalEntity'),\n",
       " (838, 848, 'ChemicalEntity'),\n",
       " (944, 955, 'ChemicalEntity'),\n",
       " (1059, 1069, 'ChemicalEntity'),\n",
       " (1149, 1160, 'ChemicalEntity'),\n",
       " (1227, 1236, 'ChemicalEntity'),\n",
       " (1238, 1249, 'ChemicalEntity'),\n",
       " (1251, 1261, 'ChemicalEntity'),\n",
       " (1294, 1317, 'ChemicalEntity'),\n",
       " (1389, 1399, 'ChemicalEntity'),\n",
       " (1409, 1419, 'ChemicalEntity'),\n",
       " (1434, 1445, 'ChemicalEntity'),\n",
       " (1512, 1522, 'ChemicalEntity'),\n",
       " (1523, 1546, 'ChemicalEntity'),\n",
       " (1652, 1662, 'ChemicalEntity'),\n",
       " (1691, 1701, 'ChemicalEntity')]"
      ]
     },
     "execution_count": 23,
     "metadata": {},
     "output_type": "execute_result"
    }
   ],
   "source": [
    "test_entities= training_data[2][1]['entities']\n",
    "test_entities"
   ]
  },
  {
   "cell_type": "code",
   "execution_count": 24,
   "id": "c6761897",
   "metadata": {},
   "outputs": [],
   "source": [
    "# enrich the data with DailyMed annotations (drug and disease entities)"
   ]
  },
  {
   "cell_type": "code",
   "execution_count": 25,
   "id": "0c3aa6e2",
   "metadata": {},
   "outputs": [
    {
     "name": "stdout",
     "output_type": "stream",
     "text": [
      "--2022-03-10 14:40:20--  https://raw.githubusercontent.com/MaastrichtU-IDS/prodigy-drug-indication-annotation/master/relation/drugdisease_relations.jsonl\n",
      "Resolving raw.githubusercontent.com (raw.githubusercontent.com)... 185.199.111.133, 185.199.108.133, 185.199.109.133, ...\n",
      "Connecting to raw.githubusercontent.com (raw.githubusercontent.com)|185.199.111.133|:443... connected.\n",
      "HTTP request sent, awaiting response... 200 OK\n",
      "Length: 435558 (425K) [text/plain]\n",
      "Saving to: ‘drugdisease_relations.jsonl.1’\n",
      "\n",
      "drugdisease_relatio 100%[===================>] 425.35K  --.-KB/s    in 0.01s   \n",
      "\n",
      "2022-03-10 14:40:21 (37.5 MB/s) - ‘drugdisease_relations.jsonl.1’ saved [435558/435558]\n",
      "\n"
     ]
    }
   ],
   "source": [
    "!wget https://raw.githubusercontent.com/MaastrichtU-IDS/prodigy-drug-indication-annotation/master/relation/drugdisease_relations.jsonl"
   ]
  },
  {
   "cell_type": "code",
   "execution_count": 34,
   "id": "c43fd67b",
   "metadata": {
    "colab": {
     "base_uri": "https://localhost:8080/"
    },
    "id": "c_Jl3jGyNiZd",
    "outputId": "fcb3d633-ea54-4779-e551-c8d867d9e39a"
   },
   "outputs": [],
   "source": [
    "import json\n",
    "extra_training_data = []\n",
    "with open('drugdisease_relations.jsonl') as fr:\n",
    "    for count, line in enumerate(fr):\n",
    "        #print (line)\n",
    "        annotations = json.loads(line)\n",
    "        \n",
    "        text = annotations['text']\n",
    "        #print (annotations['relations'])\n",
    "        entity_mentions= []\n",
    "        for a in annotations['relations']:\n",
    "            #print (a)\n",
    "            if a['child_span']['label'] == 'DISEASE':\n",
    "                entity_mention1 = (a['child_span']['start'], a['child_span']['end'], 'DiseaseOrPhenotypicFeature')\n",
    "                entity_mention2 = (a['head_span']['start'], a['head_span']['end'], 'ChemicalEntity')\n",
    "                #print (annotations['text'][a['child_span']['start']: a['child_span']['end']], 'DISEASE')\n",
    "                #print (annotations['text'][a['head_span']['start']: a['head_span']['end']], 'DRUG')\n",
    "            else:\n",
    "                entity_mention1 = (a['child_span']['start'], a['child_span']['end'], 'ChemicalEntity')\n",
    "                entity_mention2 = (a['head_span']['start'], a['head_span']['end'], 'DiseaseOrPhenotypicFeature')\n",
    "            \n",
    "            #if entity_mention1 not in entity_mentions:\n",
    "            entity_mentions.append(entity_mention1)\n",
    "                \n",
    "            #if entity_mention2 not in entity_mentions:\n",
    "            entity_mentions.append(entity_mention2)\n",
    "        if len(entity_mentions) > 0:\n",
    "            entity_mentions= remove_overlapping_entities(entity_mentions)\n",
    "            extra_training_data.append( (text,  {'entities': entity_mentions}))   \n",
    "        #if count > 5:\n",
    "        #    break"
   ]
  },
  {
   "cell_type": "code",
   "execution_count": 35,
   "id": "931689fc",
   "metadata": {
    "colab": {
     "base_uri": "https://localhost:8080/"
    },
    "id": "63cd9813-d38a-42a0-a6a7-2dde1d8c271c",
    "outputId": "26640fbc-af56-4687-8a1e-8c63fb554bdb"
   },
   "outputs": [
    {
     "data": {
      "text/plain": [
       "26"
      ]
     },
     "execution_count": 35,
     "metadata": {},
     "output_type": "execute_result"
    }
   ],
   "source": [
    "len(extra_training_data)"
   ]
  },
  {
   "cell_type": "code",
   "execution_count": 36,
   "id": "988be65a",
   "metadata": {
    "colab": {
     "base_uri": "https://localhost:8080/"
    },
    "id": "LhlKzcp6CLY6",
    "outputId": "429c5cfd-09c3-48a0-818a-e551f583b0b7"
   },
   "outputs": [
    {
     "data": {
      "text/plain": [
       "[('              *    1.1    1.2         *    1.3         *    1.4         *    1.5         *    1.6         *    1.7         *    1.8         *    1.9         *    1.10         *    1.11         *    1.12         *    1.13         *    1.14         *    1.16    Ciprofloxacin tablets are indicated in adult patients for treatment of urinary tract infections caused by     Escherichia coli    Klebsiella pneumoniae    Enterobacter cloacae    Serratia marcescens    Proteus mirabilis    Providencia rettgeri    Morganella morganii    Citrobacter koseri    Citrobacter freundii    Pseudomonas aeruginosa    Staphylococcus epidermidis    Staphylococcus saprophyticus    Enterococcus faecalis    Ciprofloxacin tablets are indicated in adult female patients for treatment of acute uncomplicated cystitis caused by     Escherichia coli     Staphylococcus saprophyticus.',\n",
       "  {'entities': [(260, 273, 'ChemicalEntity'),\n",
       "    (331, 355, 'DiseaseOrPhenotypicFeature'),\n",
       "    (689, 702, 'ChemicalEntity'),\n",
       "    (787, 795, 'DiseaseOrPhenotypicFeature')]})]"
      ]
     },
     "execution_count": 36,
     "metadata": {},
     "output_type": "execute_result"
    }
   ],
   "source": [
    "extra_training_data[:1]"
   ]
  },
  {
   "cell_type": "code",
   "execution_count": 37,
   "id": "29e7c5b2",
   "metadata": {
    "id": "AExcxfr8C0lo"
   },
   "outputs": [],
   "source": [
    "random.shuffle(extra_training_data)\n",
    "\n",
    "extra_train_data = extra_training_data[:20]\n",
    "extra_test_data = extra_training_data[20:] "
   ]
  },
  {
   "cell_type": "code",
   "execution_count": 38,
   "id": "c05888c0",
   "metadata": {
    "colab": {
     "base_uri": "https://localhost:8080/"
    },
    "id": "KW0IAkbaZI2L",
    "outputId": "bb483a64-c5a3-42ef-b07e-de2e4feddcc2"
   },
   "outputs": [
    {
     "data": {
      "text/plain": [
       "(20, 6)"
      ]
     },
     "execution_count": 38,
     "metadata": {},
     "output_type": "execute_result"
    }
   ],
   "source": [
    "len(extra_train_data), len(extra_test_data)"
   ]
  },
  {
   "cell_type": "code",
   "execution_count": 39,
   "id": "0db08090",
   "metadata": {},
   "outputs": [],
   "source": [
    "# create trainig and validation file with Spacy  file format"
   ]
  },
  {
   "cell_type": "code",
   "execution_count": 41,
   "id": "f3e66593",
   "metadata": {
    "colab": {
     "base_uri": "https://localhost:8080/"
    },
    "id": "6a5b5b38-44e6-4c50-8a01-eb703e384ce6",
    "outputId": "2e9a4cda-0fe3-4868-8f37-0d1e85803e9e"
   },
   "outputs": [
    {
     "name": "stderr",
     "output_type": "stream",
     "text": [
      " 15%|█▌        | 57/380 [00:00<00:01, 261.56it/s]"
     ]
    },
    {
     "name": "stdout",
     "output_type": "stream",
     "text": [
      "Skipping entity\n",
      "203 206 DiseaseOrPhenotypicFeature\n",
      "Skipping entity\n",
      "425 431 ChemicalEntity\n",
      "Skipping entity\n",
      "1150 1152 ChemicalEntity\n",
      "Skipping entity\n",
      "1153 1162 ChemicalEntity\n",
      "Skipping entity\n",
      "1167 1169 ChemicalEntity\n",
      "Skipping entity\n",
      "1170 1179 ChemicalEntity\n",
      "Skipping entity\n",
      "169 175 ChemicalEntity\n",
      "Skipping entity\n",
      "817 823 ChemicalEntity\n",
      "Skipping entity\n",
      "1506 1511 GeneOrGeneProduct\n",
      "Skipping entity\n",
      "1512 1524 SequenceVariant\n",
      "Skipping entity\n",
      "1574 1580 ChemicalEntity\n",
      "Skipping entity\n",
      "1663 1668 GeneOrGeneProduct\n",
      "Skipping entity\n",
      "1669 1674 SequenceVariant\n",
      "Skipping entity\n",
      "748 752 GeneOrGeneProduct\n",
      "Skipping entity\n",
      "1341 1347 GeneOrGeneProduct\n",
      "Skipping entity\n",
      "1348 1354 SequenceVariant\n",
      "Skipping entity\n",
      "1405 1409 GeneOrGeneProduct\n",
      "Skipping entity\n",
      "1468 1474 GeneOrGeneProduct\n",
      "Skipping entity\n",
      "1475 1481 SequenceVariant\n",
      "Skipping entity\n",
      "1491 1495 GeneOrGeneProduct\n",
      "Skipping entity\n",
      "1844 1848 GeneOrGeneProduct\n",
      "Skipping entity\n",
      "1932 1936 GeneOrGeneProduct\n",
      "Skipping entity\n",
      "1989 1995 GeneOrGeneProduct\n",
      "Skipping entity\n",
      "1996 2002 SequenceVariant\n",
      "Skipping entity\n",
      "568 573 OrganismTaxon\n",
      "Skipping entity\n",
      "573 580 SequenceVariant\n",
      "Skipping entity\n",
      "837 842 OrganismTaxon\n",
      "Skipping entity\n",
      "842 849 SequenceVariant\n",
      "Skipping entity\n",
      "1078 1083 OrganismTaxon\n",
      "Skipping entity\n",
      "1083 1090 SequenceVariant\n",
      "Skipping entity\n",
      "1257 1262 OrganismTaxon\n",
      "Skipping entity\n",
      "1262 1269 SequenceVariant\n",
      "Skipping entity\n",
      "1282 1287 OrganismTaxon\n",
      "Skipping entity\n",
      "1287 1299 SequenceVariant\n",
      "Skipping entity\n",
      "1440 1445 OrganismTaxon\n",
      "Skipping entity\n",
      "1445 1452 SequenceVariant\n",
      "Skipping entity\n",
      "1490 1495 OrganismTaxon\n",
      "Skipping entity\n",
      "1495 1502 SequenceVariant\n",
      "Skipping entity\n",
      "1507 1512 OrganismTaxon\n",
      "Skipping entity\n",
      "1512 1524 SequenceVariant\n",
      "Skipping entity\n",
      "685 689 DiseaseOrPhenotypicFeature\n",
      "Skipping entity\n",
      "2902 2911 ChemicalEntity\n",
      "Skipping entity\n",
      "960 964 SequenceVariant\n",
      "Skipping entity\n",
      "976 987 ChemicalEntity\n",
      "Skipping entity\n",
      "1506 1519 ChemicalEntity\n",
      "Skipping entity\n",
      "1780 1781 ChemicalEntity\n",
      "Skipping entity\n",
      "21 29 ChemicalEntity\n",
      "Skipping entity\n",
      "1386 1394 ChemicalEntity\n",
      "Skipping entity\n"
     ]
    },
    {
     "name": "stderr",
     "output_type": "stream",
     "text": [
      " 39%|███▉      | 150/380 [00:00<00:00, 281.54it/s]"
     ]
    },
    {
     "name": "stdout",
     "output_type": "stream",
     "text": [
      "83 88 SequenceVariant\n",
      "Skipping entity\n",
      "189 192 ChemicalEntity\n",
      "Skipping entity\n",
      "816 821 SequenceVariant\n",
      "Skipping entity\n",
      "448 452 ChemicalEntity\n",
      "Skipping entity\n",
      "676 686 ChemicalEntity\n",
      "Skipping entity\n",
      "119 145 GeneOrGeneProduct\n",
      "Skipping entity\n",
      "1058 1062 ChemicalEntity\n",
      "Skipping entity\n",
      "1100 1104 ChemicalEntity\n",
      "Skipping entity\n",
      "1505 1509 ChemicalEntity\n",
      "Skipping entity\n",
      "160 163 ChemicalEntity\n",
      "Skipping entity\n",
      "359 366 SequenceVariant\n",
      "Skipping entity\n",
      "254 258 GeneOrGeneProduct\n",
      "Skipping entity\n",
      "258 264 SequenceVariant\n",
      "Skipping entity\n",
      "867 870 GeneOrGeneProduct\n",
      "Skipping entity\n",
      "1249 1253 GeneOrGeneProduct\n",
      "Skipping entity\n",
      "1267 1270 GeneOrGeneProduct\n",
      "Skipping entity\n",
      "1360 1363 GeneOrGeneProduct\n",
      "Skipping entity\n",
      "1455 1459 GeneOrGeneProduct\n",
      "Skipping entity\n",
      "1459 1464 SequenceVariant\n",
      "Skipping entity\n",
      "1469 1473 GeneOrGeneProduct\n",
      "Skipping entity\n",
      "1473 1479 SequenceVariant\n",
      "Skipping entity\n",
      "1617 1621 GeneOrGeneProduct\n",
      "Skipping entity\n",
      "1621 1626 SequenceVariant\n",
      "Skipping entity\n",
      "1631 1635 GeneOrGeneProduct\n",
      "Skipping entity\n",
      "1635 1641 SequenceVariant\n",
      "Skipping entity\n",
      "1716 1720 GeneOrGeneProduct\n",
      "Skipping entity\n",
      "1720 1725 SequenceVariant\n",
      "Skipping entity\n",
      "1730 1734 GeneOrGeneProduct\n",
      "Skipping entity\n",
      "1734 1740 SequenceVariant\n",
      "Skipping entity\n",
      "864 875 GeneOrGeneProduct\n",
      "Skipping entity\n",
      "1213 1215 DiseaseOrPhenotypicFeature\n",
      "Skipping entity\n",
      "1464 1465 ChemicalEntity\n",
      "Skipping entity\n",
      "1466 1470 ChemicalEntity\n",
      "Skipping entity\n",
      "469 495 ChemicalEntity\n",
      "Skipping entity\n",
      "691 717 ChemicalEntity\n",
      "Skipping entity\n",
      "461 465 GeneOrGeneProduct\n",
      "Skipping entity\n",
      "979 983 GeneOrGeneProduct\n"
     ]
    },
    {
     "name": "stderr",
     "output_type": "stream",
     "text": [
      " 65%|██████▌   | 247/380 [00:00<00:00, 306.23it/s]"
     ]
    },
    {
     "name": "stdout",
     "output_type": "stream",
     "text": [
      "Skipping entity\n",
      "735 740 ChemicalEntity\n",
      "Skipping entity\n",
      "595 608 ChemicalEntity\n",
      "Skipping entity\n",
      "734 747 ChemicalEntity\n",
      "Skipping entity\n",
      "672 679 GeneOrGeneProduct\n",
      "Skipping entity\n",
      "680 684 GeneOrGeneProduct\n",
      "Skipping entity\n",
      "844 851 GeneOrGeneProduct\n",
      "Skipping entity\n",
      "1247 1254 GeneOrGeneProduct\n",
      "Skipping entity\n",
      "1257 1261 GeneOrGeneProduct\n",
      "Skipping entity\n",
      "513 545 DiseaseOrPhenotypicFeature\n",
      "Skipping entity\n",
      "96 99 GeneOrGeneProduct\n",
      "Skipping entity\n",
      "132 135 ChemicalEntity\n",
      "Skipping entity\n",
      "268 271 GeneOrGeneProduct\n",
      "Skipping entity\n",
      "392 395 ChemicalEntity\n",
      "Skipping entity\n",
      "487 490 GeneOrGeneProduct\n",
      "Skipping entity\n",
      "724 727 GeneOrGeneProduct\n",
      "Skipping entity\n",
      "875 878 GeneOrGeneProduct\n",
      "Skipping entity\n",
      "939 942 GeneOrGeneProduct\n",
      "Skipping entity\n",
      "997 1000 GeneOrGeneProduct\n",
      "Skipping entity\n",
      "1408 1411 GeneOrGeneProduct\n",
      "Skipping entity\n",
      "1441 1444 GeneOrGeneProduct\n",
      "Skipping entity\n",
      "1637 1640 GeneOrGeneProduct\n",
      "Skipping entity\n",
      "1824 1827 GeneOrGeneProduct\n",
      "Skipping entity\n",
      "1116 1125 GeneOrGeneProduct\n",
      "Skipping entity\n",
      "958 962 GeneOrGeneProduct\n",
      "Skipping entity\n",
      "963 968 SequenceVariant\n",
      "Skipping entity\n",
      "1349 1353 GeneOrGeneProduct\n",
      "Skipping entity\n",
      "1354 1359 SequenceVariant\n",
      "Skipping entity\n",
      "781 788 GeneOrGeneProduct\n",
      "Skipping entity\n",
      "303 314 ChemicalEntity\n",
      "Skipping entity\n",
      "362 373 ChemicalEntity\n",
      "Skipping entity\n",
      "397 408 ChemicalEntity\n",
      "Skipping entity\n",
      "680 691 ChemicalEntity\n",
      "Skipping entity\n",
      "697 708 ChemicalEntity\n",
      "Skipping entity\n",
      "811 818 ChemicalEntity\n",
      "Skipping entity\n",
      "924 935 OrganismTaxon\n",
      "Skipping entity\n",
      "1335 1346 ChemicalEntity\n",
      "Skipping entity\n",
      "1389 1400 ChemicalEntity\n",
      "Skipping entity\n",
      "1457 1468 ChemicalEntity\n",
      "Skipping entity\n",
      "1636 1646 ChemicalEntity\n",
      "Skipping entity\n",
      "1799 1810 ChemicalEntity\n",
      "Skipping entity\n",
      "1854 1865 ChemicalEntity\n",
      "Skipping entity\n",
      "522 527 GeneOrGeneProduct\n",
      "Skipping entity\n",
      "528 534 SequenceVariant\n",
      "Skipping entity\n",
      "396 400 GeneOrGeneProduct\n",
      "Skipping entity\n",
      "401 405 GeneOrGeneProduct\n",
      "Skipping entity\n",
      "740 743 GeneOrGeneProduct\n",
      "Skipping entity\n",
      "744 748 GeneOrGeneProduct\n",
      "Skipping entity\n",
      "765 768 GeneOrGeneProduct\n",
      "Skipping entity\n",
      "769 773 GeneOrGeneProduct\n",
      "Skipping entity\n",
      "363 369 ChemicalEntity\n",
      "Skipping entity\n",
      "648 654 ChemicalEntity\n",
      "Skipping entity\n",
      "1120 1128 GeneOrGeneProduct\n",
      "Skipping entity\n",
      "1141 1144 GeneOrGeneProduct\n",
      "Skipping entity\n",
      "1339 1347 GeneOrGeneProduct\n",
      "Skipping entity\n",
      "1486 1489 GeneOrGeneProduct\n",
      "Skipping entity\n",
      "438 442 GeneOrGeneProduct\n",
      "Skipping entity\n",
      "444 447 GeneOrGeneProduct\n",
      "Skipping entity\n",
      "250 255 ChemicalEntity\n",
      "Skipping entity\n",
      "257 263 ChemicalEntity\n",
      "Skipping entity\n",
      "264 280 GeneOrGeneProduct\n",
      "Skipping entity\n",
      "282 285 GeneOrGeneProduct\n",
      "Skipping entity\n",
      "287 319 GeneOrGeneProduct\n",
      "Skipping entity\n",
      "173 176 GeneOrGeneProduct\n",
      "Skipping entity\n",
      "179 183 GeneOrGeneProduct\n",
      "Skipping entity\n",
      "622 627 SequenceVariant\n",
      "Skipping entity\n",
      "633 638 SequenceVariant\n",
      "Skipping entity\n",
      "856 861 SequenceVariant\n",
      "Skipping entity\n",
      "866 871 SequenceVariant\n",
      "Skipping entity\n",
      "894 899 SequenceVariant\n",
      "Skipping entity\n",
      "905 910 SequenceVariant\n",
      "Skipping entity\n",
      "913 918 SequenceVariant\n",
      "Skipping entity\n",
      "1051 1056 SequenceVariant\n",
      "Skipping entity\n",
      "1286 1291 SequenceVariant\n",
      "Skipping entity\n",
      "1463 1468 SequenceVariant\n",
      "Skipping entity\n",
      "426 430 ChemicalEntity\n",
      "Skipping entity\n",
      "459 461 DiseaseOrPhenotypicFeature\n",
      "Skipping entity\n",
      "463 488 DiseaseOrPhenotypicFeature\n",
      "Skipping entity\n",
      "1191 1201 ChemicalEntity\n",
      "Skipping entity\n",
      "1209 1219 ChemicalEntity\n",
      "Skipping entity\n",
      "1223 1230 GeneOrGeneProduct\n"
     ]
    },
    {
     "name": "stderr",
     "output_type": "stream",
     "text": [
      " 84%|████████▍ | 320/380 [00:01<00:00, 318.51it/s]"
     ]
    },
    {
     "name": "stdout",
     "output_type": "stream",
     "text": [
      "Skipping entity\n",
      "257 264 ChemicalEntity\n",
      "Skipping entity\n",
      "611 618 ChemicalEntity\n",
      "Skipping entity\n",
      "628 635 ChemicalEntity\n",
      "Skipping entity\n",
      "925 932 ChemicalEntity\n",
      "Skipping entity\n",
      "946 953 ChemicalEntity\n",
      "Skipping entity\n",
      "1167 1174 ChemicalEntity\n",
      "Skipping entity\n",
      "1257 1264 ChemicalEntity\n",
      "Skipping entity\n",
      "1324 1331 ChemicalEntity\n",
      "Skipping entity\n",
      "1533 1540 ChemicalEntity\n",
      "Skipping entity\n",
      "28 34 GeneOrGeneProduct\n",
      "Skipping entity\n",
      "34 63 SequenceVariant\n",
      "Skipping entity\n",
      "910 914 ChemicalEntity\n",
      "Skipping entity\n",
      "10 14 GeneOrGeneProduct\n",
      "Skipping entity\n",
      "14 21 SequenceVariant\n",
      "Skipping entity\n",
      "190 209 DiseaseOrPhenotypicFeature\n",
      "Skipping entity\n",
      "192 218 GeneOrGeneProduct\n",
      "Skipping entity\n",
      "219 223 GeneOrGeneProduct\n",
      "Skipping entity\n",
      "12 16 GeneOrGeneProduct\n",
      "Skipping entity\n",
      "111 114 GeneOrGeneProduct\n",
      "Skipping entity\n",
      "844 854 GeneOrGeneProduct\n",
      "Skipping entity\n",
      "756 760 GeneOrGeneProduct\n",
      "Skipping entity\n",
      "765 776 GeneOrGeneProduct\n",
      "Skipping entity\n",
      "784 789 GeneOrGeneProduct\n",
      "Skipping entity\n",
      "852 857 GeneOrGeneProduct\n",
      "Skipping entity\n",
      "862 868 GeneOrGeneProduct\n",
      "Skipping entity\n",
      "873 876 GeneOrGeneProduct\n",
      "Skipping entity\n",
      "884 890 GeneOrGeneProduct\n",
      "Skipping entity\n",
      "1400 1405 GeneOrGeneProduct\n",
      "Skipping entity\n",
      "1424 1428 GeneOrGeneProduct\n",
      "Skipping entity\n",
      "1440 1443 GeneOrGeneProduct\n",
      "Skipping entity\n",
      "367 371 GeneOrGeneProduct\n",
      "Skipping entity\n",
      "984 989 GeneOrGeneProduct\n",
      "Skipping entity\n",
      "156 160 ChemicalEntity\n",
      "Skipping entity\n",
      "162 175 ChemicalEntity\n",
      "Skipping entity\n",
      "863 867 GeneOrGeneProduct\n",
      "Skipping entity\n",
      "868 872 SequenceVariant\n",
      "Skipping entity\n",
      "49 59 GeneOrGeneProduct\n",
      "Skipping entity\n",
      "59 62 SequenceVariant\n",
      "Skipping entity\n",
      "1128 1130 GeneOrGeneProduct\n",
      "Skipping entity\n",
      "1130 1133 SequenceVariant\n",
      "Skipping entity\n",
      "1356 1358 GeneOrGeneProduct\n",
      "Skipping entity\n",
      "1358 1361 SequenceVariant\n",
      "Skipping entity\n",
      "88 101 ChemicalEntity\n",
      "Skipping entity\n",
      "104 107 ChemicalEntity\n",
      "Skipping entity\n",
      "631 635 GeneOrGeneProduct\n",
      "Skipping entity\n",
      "789 792 GeneOrGeneProduct\n",
      "Skipping entity\n",
      "1697 1700 GeneOrGeneProduct\n",
      "Skipping entity\n",
      "1713 1722 GeneOrGeneProduct\n",
      "Skipping entity\n",
      "1737 1743 GeneOrGeneProduct\n",
      "Skipping entity\n",
      "49 54 GeneOrGeneProduct\n",
      "Skipping entity\n",
      "456 461 GeneOrGeneProduct\n",
      "Skipping entity\n",
      "646 651 GeneOrGeneProduct\n",
      "Skipping entity\n",
      "717 722 GeneOrGeneProduct\n",
      "Skipping entity\n",
      "1227 1232 GeneOrGeneProduct\n",
      "Skipping entity\n",
      "599 604 GeneOrGeneProduct\n",
      "Skipping entity\n",
      "764 769 GeneOrGeneProduct\n",
      "Skipping entity\n",
      "983 988 GeneOrGeneProduct\n",
      "Skipping entity\n",
      "154 175 ChemicalEntity\n",
      "Skipping entity\n",
      "1462 1467 GeneOrGeneProduct\n",
      "Skipping entity\n",
      "1468 1471 GeneOrGeneProduct\n",
      "Skipping entity\n",
      "1691 1696 GeneOrGeneProduct\n",
      "Skipping entity\n",
      "276 278 GeneOrGeneProduct\n",
      "Skipping entity\n",
      "377 379 GeneOrGeneProduct\n",
      "Skipping entity\n",
      "434 438 GeneOrGeneProduct\n",
      "Skipping entity\n",
      "569 571 GeneOrGeneProduct\n",
      "Skipping entity\n",
      "917 919 GeneOrGeneProduct\n",
      "Skipping entity\n",
      "511 515 ChemicalEntity\n",
      "Skipping entity\n",
      "645 649 GeneOrGeneProduct\n",
      "Skipping entity\n",
      "650 654 SequenceVariant\n",
      "Skipping entity\n",
      "1168 1172 GeneOrGeneProduct\n",
      "Skipping entity\n",
      "1173 1177 SequenceVariant\n",
      "Skipping entity\n",
      "1374 1378 GeneOrGeneProduct\n",
      "Skipping entity\n",
      "1379 1383 SequenceVariant\n",
      "Skipping entity\n",
      "1540 1544 GeneOrGeneProduct\n",
      "Skipping entity\n",
      "1545 1549 SequenceVariant\n",
      "Skipping entity\n",
      "1585 1589 GeneOrGeneProduct\n",
      "Skipping entity\n",
      "1590 1594 SequenceVariant\n",
      "Skipping entity\n",
      "262 268 GeneOrGeneProduct\n",
      "Skipping entity\n",
      "1141 1144 GeneOrGeneProduct\n",
      "Skipping entity\n",
      "1762 1765 GeneOrGeneProduct\n",
      "Skipping entity\n",
      "673 675 GeneOrGeneProduct\n",
      "Skipping entity\n",
      "763 765 GeneOrGeneProduct\n",
      "Skipping entity\n",
      "1037 1039 GeneOrGeneProduct\n",
      "Skipping entity\n",
      "1850 1853 GeneOrGeneProduct\n",
      "Skipping entity\n",
      "1854 1861 SequenceVariant\n",
      "Skipping entity\n",
      "690 699 GeneOrGeneProduct\n",
      "Skipping entity\n",
      "816 821 GeneOrGeneProduct\n",
      "Skipping entity\n",
      "824 827 DiseaseOrPhenotypicFeature\n",
      "Skipping entity\n",
      "882 887 GeneOrGeneProduct\n",
      "Skipping entity\n",
      "1486 1491 GeneOrGeneProduct\n",
      "Skipping entity\n",
      "1589 1594 GeneOrGeneProduct\n",
      "Skipping entity\n",
      "1736 1741 GeneOrGeneProduct\n",
      "Skipping entity\n",
      "175 180 GeneOrGeneProduct\n",
      "Skipping entity\n",
      "1294 1299 GeneOrGeneProduct\n",
      "Skipping entity\n",
      "1154 1159 GeneOrGeneProduct\n",
      "Skipping entity\n",
      "1578 1581 GeneOrGeneProduct\n",
      "Skipping entity\n",
      "1582 1585 GeneOrGeneProduct\n",
      "Skipping entity\n",
      "1586 1591 GeneOrGeneProduct\n",
      "Skipping entity\n",
      "1592 1597 GeneOrGeneProduct\n",
      "Skipping entity\n",
      "1598 1602 GeneOrGeneProduct\n",
      "Skipping entity\n",
      "1603 1608 GeneOrGeneProduct\n"
     ]
    },
    {
     "name": "stderr",
     "output_type": "stream",
     "text": [
      "100%|██████████| 380/380 [00:01<00:00, 324.91it/s]\n"
     ]
    },
    {
     "name": "stdout",
     "output_type": "stream",
     "text": [
      "Skipping entity\n",
      "419 423 GeneOrGeneProduct\n",
      "Skipping entity\n",
      "424 428 GeneOrGeneProduct\n",
      "Skipping entity\n",
      "11 14 GeneOrGeneProduct\n",
      "Skipping entity\n",
      "15 20 GeneOrGeneProduct\n",
      "Skipping entity\n",
      "54 57 GeneOrGeneProduct\n",
      "Skipping entity\n",
      "58 63 GeneOrGeneProduct\n",
      "Skipping entity\n",
      "64 69 GeneOrGeneProduct\n",
      "Skipping entity\n",
      "187 190 GeneOrGeneProduct\n",
      "Skipping entity\n",
      "368 371 GeneOrGeneProduct\n",
      "Skipping entity\n",
      "374 379 GeneOrGeneProduct\n",
      "Skipping entity\n",
      "382 387 GeneOrGeneProduct\n",
      "Skipping entity\n",
      "685 688 GeneOrGeneProduct\n",
      "Skipping entity\n",
      "828 831 GeneOrGeneProduct\n",
      "Skipping entity\n",
      "904 907 GeneOrGeneProduct\n",
      "Skipping entity\n",
      "1149 1152 GeneOrGeneProduct\n",
      "Skipping entity\n",
      "1293 1296 GeneOrGeneProduct\n",
      "Skipping entity\n",
      "1428 1431 GeneOrGeneProduct\n",
      "Skipping entity\n",
      "1654 1657 GeneOrGeneProduct\n",
      "Skipping entity\n",
      "1836 1839 GeneOrGeneProduct\n",
      "Skipping entity\n",
      "1105 1134 GeneOrGeneProduct\n",
      "Skipping entity\n",
      "1104 1109 GeneOrGeneProduct\n",
      "Skipping entity\n",
      "1086 1088 GeneOrGeneProduct\n",
      "Skipping entity\n",
      "1091 1095 GeneOrGeneProduct\n",
      "Skipping entity\n",
      "1098 1102 GeneOrGeneProduct\n",
      "Skipping entity\n",
      "1105 1108 GeneOrGeneProduct\n",
      "Skipping entity\n",
      "1163 1167 GeneOrGeneProduct\n"
     ]
    },
    {
     "name": "stderr",
     "output_type": "stream",
     "text": [
      "100%|██████████| 46/46 [00:00<00:00, 383.52it/s]\n"
     ]
    },
    {
     "name": "stdout",
     "output_type": "stream",
     "text": [
      "Skipping entity\n",
      "0 33 GeneOrGeneProduct\n",
      "Skipping entity\n",
      "34 39 GeneOrGeneProduct\n",
      "Skipping entity\n",
      "1209 1212 GeneOrGeneProduct\n",
      "Skipping entity\n",
      "1213 1218 GeneOrGeneProduct\n",
      "Skipping entity\n",
      "537 540 ChemicalEntity\n",
      "Skipping entity\n",
      "634 639 GeneOrGeneProduct\n",
      "Skipping entity\n",
      "640 644 GeneOrGeneProduct\n",
      "Skipping entity\n",
      "980 985 GeneOrGeneProduct\n",
      "Skipping entity\n",
      "986 990 GeneOrGeneProduct\n",
      "Skipping entity\n",
      "992 1001 GeneOrGeneProduct\n",
      "Skipping entity\n",
      "164 176 GeneOrGeneProduct\n",
      "Skipping entity\n",
      "881 885 GeneOrGeneProduct\n",
      "Skipping entity\n",
      "1461 1465 GeneOrGeneProduct\n",
      "Skipping entity\n",
      "1470 1474 GeneOrGeneProduct\n",
      "Skipping entity\n",
      "1614 1620 GeneOrGeneProduct\n",
      "Skipping entity\n",
      "1660 1664 GeneOrGeneProduct\n",
      "Skipping entity\n",
      "1926 1930 GeneOrGeneProduct\n",
      "Skipping entity\n",
      "1935 1939 GeneOrGeneProduct\n",
      "Skipping entity\n",
      "1358 1363 GeneOrGeneProduct\n",
      "Skipping entity\n",
      "1365 1369 GeneOrGeneProduct\n",
      "Skipping entity\n",
      "1155 1159 GeneOrGeneProduct\n",
      "Skipping entity\n",
      "1161 1187 GeneOrGeneProduct\n",
      "Skipping entity\n",
      "1189 1192 GeneOrGeneProduct\n",
      "Skipping entity\n",
      "1194 1223 GeneOrGeneProduct\n",
      "Skipping entity\n",
      "836 840 OrganismTaxon\n",
      "Skipping entity\n",
      "841 853 ChemicalEntity\n",
      "Skipping entity\n",
      "873 877 OrganismTaxon\n",
      "Skipping entity\n",
      "878 887 ChemicalEntity\n",
      "Skipping entity\n",
      "888 900 ChemicalEntity\n",
      "Skipping entity\n",
      "1388 1391 GeneOrGeneProduct\n",
      "Skipping entity\n",
      "1393 1402 GeneOrGeneProduct\n",
      "Skipping entity\n",
      "461 465 GeneOrGeneProduct\n",
      "Skipping entity\n",
      "542 546 GeneOrGeneProduct\n",
      "Skipping entity\n",
      "681 685 GeneOrGeneProduct\n",
      "Skipping entity\n",
      "715 719 GeneOrGeneProduct\n",
      "Skipping entity\n",
      "846 850 GeneOrGeneProduct\n",
      "Skipping entity\n",
      "1485 1489 GeneOrGeneProduct\n",
      "Skipping entity\n",
      "870 874 ChemicalEntity\n",
      "Skipping entity\n",
      "570 574 GeneOrGeneProduct\n",
      "Skipping entity\n",
      "624 629 GeneOrGeneProduct\n",
      "Skipping entity\n",
      "632 636 GeneOrGeneProduct\n",
      "Skipping entity\n",
      "1013 1018 GeneOrGeneProduct\n",
      "Skipping entity\n",
      "1429 1432 DiseaseOrPhenotypicFeature\n",
      "Skipping entity\n",
      "685 689 GeneOrGeneProduct\n",
      "Skipping entity\n",
      "1036 1040 GeneOrGeneProduct\n",
      "Skipping entity\n",
      "1278 1282 GeneOrGeneProduct\n",
      "Skipping entity\n",
      "2124 2127 DiseaseOrPhenotypicFeature\n",
      "Skipping entity\n",
      "529 533 GeneOrGeneProduct\n",
      "Skipping entity\n",
      "666 670 GeneOrGeneProduct\n",
      "Skipping entity\n",
      "769 773 GeneOrGeneProduct\n",
      "Skipping entity\n",
      "867 872 GeneOrGeneProduct\n",
      "Skipping entity\n",
      "945 949 GeneOrGeneProduct\n",
      "Skipping entity\n",
      "957 961 GeneOrGeneProduct\n",
      "Skipping entity\n",
      "982 986 GeneOrGeneProduct\n",
      "Skipping entity\n",
      "1137 1141 GeneOrGeneProduct\n",
      "Skipping entity\n",
      "1158 1162 GeneOrGeneProduct\n",
      "Skipping entity\n",
      "1197 1202 GeneOrGeneProduct\n",
      "Skipping entity\n",
      "1256 1261 GeneOrGeneProduct\n",
      "Skipping entity\n",
      "1300 1305 GeneOrGeneProduct\n",
      "Skipping entity\n",
      "1343 1348 GeneOrGeneProduct\n",
      "Skipping entity\n",
      "1529 1535 GeneOrGeneProduct\n",
      "Skipping entity\n",
      "1539 1544 GeneOrGeneProduct\n",
      "Skipping entity\n",
      "532 535 GeneOrGeneProduct\n",
      "Skipping entity\n",
      "535 539 SequenceVariant\n",
      "Skipping entity\n",
      "553 561 GeneOrGeneProduct\n",
      "Skipping entity\n",
      "652 660 GeneOrGeneProduct\n",
      "Skipping entity\n",
      "1166 1168 GeneOrGeneProduct\n",
      "Skipping entity\n",
      "1169 1177 SequenceVariant\n",
      "Skipping entity\n",
      "1440 1442 GeneOrGeneProduct\n",
      "Skipping entity\n",
      "1443 1451 SequenceVariant\n",
      "Skipping entity\n",
      "1707 1716 GeneOrGeneProduct\n",
      "Skipping entity\n",
      "1718 1722 SequenceVariant\n",
      "Skipping entity\n",
      "509 514 SequenceVariant\n",
      "Skipping entity\n",
      "404 407 GeneOrGeneProduct\n",
      "Skipping entity\n",
      "647 649 ChemicalEntity\n"
     ]
    }
   ],
   "source": [
    "#import pandas as pd\n",
    "from tqdm import tqdm\n",
    "#import spacy\n",
    "from spacy.tokens import DocBin\n",
    "nlp = spacy.blank(\"en\") # load a new spacy model\n",
    "db = DocBin() # create a DocBin object\n",
    "\n",
    "for text, annot in tqdm(training_data[:-test_size] + extra_train_data): # data in previous format\n",
    "    doc = nlp.make_doc(text) # create doc object from text\n",
    "    ents = []\n",
    "    for start, end, label in annot[\"entities\"]: # add character indexes\n",
    "        #print (start, end, label)\n",
    "        span = doc.char_span(start, end, label=label, alignment_mode=\"strict\")\n",
    "        if span is None:\n",
    "            print(\"Skipping entity\")\n",
    "            print (start, end, label)\n",
    "        else:\n",
    "            ents.append(span)\n",
    "    doc.ents = ents # label the text with the ents\n",
    "    db.add(doc)\n",
    "\n",
    "db.to_disk(\"train.spacy\") # save the docbin object\n",
    "\n",
    "db = DocBin()\n",
    "for text, annot in tqdm(training_data[-test_size:]+ extra_test_data): # data in previous format\n",
    "    doc = nlp.make_doc(text) # create doc object from text\n",
    "    ents = []\n",
    "    for start, end, label in annot[\"entities\"]: # add character indexes\n",
    "        span = doc.char_span(start, end, label=label, alignment_mode=\"strict\")\n",
    "        if span is None:\n",
    "            print(\"Skipping entity\")\n",
    "            print (start, end, label)\n",
    "        else:\n",
    "            ents.append(span)\n",
    "    doc.ents = ents # label the text with the ents\n",
    "    db.add(doc)\n",
    "\n",
    "db.to_disk(\"valid.spacy\") # save the docbin object\n"
   ]
  },
  {
   "cell_type": "code",
   "execution_count": null,
   "id": "79fef381",
   "metadata": {
    "id": "ea4e5706-5688-486c-9706-f61c2f077878"
   },
   "outputs": [],
   "source": []
  }
 ],
 "metadata": {
  "colab": {
   "name": "Spacy- Herb NER.ipynb",
   "provenance": []
  },
  "kernelspec": {
   "display_name": "Python 3",
   "language": "python",
   "name": "python3"
  },
  "language_info": {
   "codemirror_mode": {
    "name": "ipython",
    "version": 3
   },
   "file_extension": ".py",
   "mimetype": "text/x-python",
   "name": "python",
   "nbconvert_exporter": "python",
   "pygments_lexer": "ipython3",
   "version": "3.8.5"
  }
 },
 "nbformat": 4,
 "nbformat_minor": 5
}
