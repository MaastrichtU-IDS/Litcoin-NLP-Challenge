{
 "cells": [
  {
   "cell_type": "code",
   "execution_count": 4,
   "id": "4489f356",
   "metadata": {},
   "outputs": [
    {
     "data": {
      "text/plain": [
       "True"
      ]
     },
     "execution_count": 4,
     "metadata": {},
     "output_type": "execute_result"
    }
   ],
   "source": [
    "import spacy\n",
    "\n",
    "spacy.require_gpu()"
   ]
  },
  {
   "cell_type": "code",
   "execution_count": 6,
   "id": "615a3e2b",
   "metadata": {
    "colab": {
     "base_uri": "https://localhost:8080/"
    },
    "id": "18cad6b2-fbe0-4b76-badd-2afd84f6c64b",
    "outputId": "8a96d729-606a-4340-9ab3-8c800e11f562"
   },
   "outputs": [
    {
     "name": "stdout",
     "output_type": "stream",
     "text": [
      "[2022-03-05 17:46:41,342] [DEBUG] Config overrides from CLI: ['paths.train', 'paths.dev']\n",
      "\u001b[38;5;4mℹ Saving to output directory: ner_demo/training\u001b[0m\n",
      "\u001b[38;5;4mℹ Using GPU: 0\u001b[0m\n",
      "\u001b[1m\n",
      "=========================== Initializing pipeline ===========================\u001b[0m\n",
      "[2022-03-05 17:46:44,160] [INFO] Set up nlp object from config\n",
      "[2022-03-05 17:46:44,176] [DEBUG] Loading corpus from path: valid.spacy\n",
      "[2022-03-05 17:46:44,178] [DEBUG] Loading corpus from path: train.spacy\n",
      "[2022-03-05 17:46:44,178] [INFO] Pipeline: ['transformer', 'ner']\n",
      "[2022-03-05 17:46:44,185] [INFO] Created vocabulary\n",
      "[2022-03-05 17:46:44,186] [INFO] Finished initializing nlp object\n",
      "Downloading: 100%|██████████████████████████████| 481/481 [00:00<00:00, 341kB/s]\n",
      "Downloading: 100%|███████████████████████████| 878k/878k [00:00<00:00, 1.42MB/s]\n",
      "Downloading: 100%|████████████████████████████| 446k/446k [00:00<00:00, 869kB/s]\n",
      "Downloading: 100%|█████████████████████████| 1.29M/1.29M [00:00<00:00, 2.13MB/s]\n",
      "Downloading: 100%|███████████████████████████| 478M/478M [00:07<00:00, 63.0MB/s]\n",
      "Some weights of the model checkpoint at roberta-base were not used when initializing RobertaModel: ['lm_head.bias', 'lm_head.layer_norm.bias', 'lm_head.dense.weight', 'lm_head.dense.bias', 'lm_head.layer_norm.weight', 'lm_head.decoder.weight']\n",
      "- This IS expected if you are initializing RobertaModel from the checkpoint of a model trained on another task or with another architecture (e.g. initializing a BertForSequenceClassification model from a BertForPreTraining model).\n",
      "- This IS NOT expected if you are initializing RobertaModel from the checkpoint of a model that you expect to be exactly identical (initializing a BertForSequenceClassification model from a BertForSequenceClassification model).\n",
      "[2022-03-05 17:47:10,910] [DEBUG] [W033] Training a new parser or NER using a model with no lexeme normalization table. This may degrade the performance of the model to some degree. If this is intentional or the language you're using doesn't have a normalization table, please ignore this warning. If this is surprising, make sure you have the spacy-lookups-data package installed and load the table in your config. The languages with lexeme normalization tables are currently: cs, da, de, el, en, id, lb, mk, pt, ru, sr, ta, th\n",
      "\n",
      "Load the table in your config with:\n",
      "\n",
      "[initialize.lookups]\n",
      "@misc = \"spacy.LookupsDataLoader.v1\"\n",
      "lang = ${nlp.lang}\n",
      "tables = [\"lexeme_norm\"]\n",
      "\n",
      "[2022-03-05 17:47:18,847] [INFO] Initialized pipeline components: ['transformer', 'ner']\n",
      "\u001b[38;5;2m✔ Initialized pipeline\u001b[0m\n",
      "\u001b[1m\n",
      "============================= Training pipeline =============================\u001b[0m\n",
      "[2022-03-05 17:47:18,861] [DEBUG] Loading corpus from path: valid.spacy\n",
      "[2022-03-05 17:47:18,862] [DEBUG] Loading corpus from path: train.spacy\n",
      "\u001b[38;5;4mℹ Pipeline: ['transformer', 'ner']\u001b[0m\n",
      "\u001b[38;5;4mℹ Initial learn rate: 0.0\u001b[0m\n",
      "E    #       LOSS TRANS...  LOSS NER  ENTS_F  ENTS_P  ENTS_R  SCORE \n",
      "---  ------  -------------  --------  ------  ------  ------  ------\n",
      "  0       0       15799.34   1304.93    2.12    1.28    6.24    0.02\n",
      "  3     200      911733.13  99867.57   59.04   69.65   51.24    0.59\n",
      "  6     400      112074.04  27631.84   74.94   75.03   74.86    0.75\n",
      " 10     600       11944.88   7854.25   81.63   81.27   82.00    0.82\n",
      " 13     800        2888.33   3292.65   83.66   82.96   84.36    0.84\n",
      " 16    1000        1336.18   1597.92   83.77   83.08   84.48    0.84\n",
      " 20    1200         672.73   1208.99   83.77   83.08   84.48    0.84\n",
      " 23    1400         632.91   1234.52   83.77   83.08   84.48    0.84\n",
      " 26    1600         580.45   1221.45   83.77   83.08   84.48    0.84\n",
      " 30    1800        1548.83   1285.04   83.77   83.08   84.48    0.84\n",
      " 33    2000         630.31   1252.27   83.77   83.08   84.48    0.84\n",
      " 36    2200         523.33   1204.59   83.77   83.08   84.48    0.84\n",
      " 40    2400         524.45   1200.75   83.77   83.08   84.48    0.84\n",
      " 43    2600         615.12   1178.07   83.77   83.08   84.48    0.84\n",
      "\u001b[38;5;2m✔ Saved pipeline to output directory\u001b[0m\n",
      "ner_demo/training/model-last\n"
     ]
    }
   ],
   "source": [
    "!python -m spacy train config.cfg --verbose --output ner_demo/training/  --paths.train train.spacy --paths.dev valid.spacy  --gpu-id 0"
   ]
  },
  {
   "cell_type": "code",
   "execution_count": 7,
   "id": "7531a6c7",
   "metadata": {
    "colab": {
     "base_uri": "https://localhost:8080/",
     "height": 337
    },
    "id": "bCHxi1E5YUS4",
    "outputId": "d8425a09-11f8-4184-d327-d663228579c4"
   },
   "outputs": [
    {
     "data": {
      "text/html": [
       "<div>\n",
       "<style scoped>\n",
       "    .dataframe tbody tr th:only-of-type {\n",
       "        vertical-align: middle;\n",
       "    }\n",
       "\n",
       "    .dataframe tbody tr th {\n",
       "        vertical-align: top;\n",
       "    }\n",
       "\n",
       "    .dataframe thead th {\n",
       "        text-align: right;\n",
       "    }\n",
       "</style>\n",
       "<table border=\"1\" class=\"dataframe\">\n",
       "  <thead>\n",
       "    <tr style=\"text-align: right;\">\n",
       "      <th></th>\n",
       "      <th>abstract_id</th>\n",
       "      <th>title</th>\n",
       "      <th>abstract</th>\n",
       "    </tr>\n",
       "  </thead>\n",
       "  <tbody>\n",
       "    <tr>\n",
       "      <th>0</th>\n",
       "      <td>1711760</td>\n",
       "      <td>Delayed institution of hypertension during foc...</td>\n",
       "      <td>The effect of induced hypertension instituted ...</td>\n",
       "    </tr>\n",
       "    <tr>\n",
       "      <th>1</th>\n",
       "      <td>6086495</td>\n",
       "      <td>Localisation of the Becker muscular dystrophy ...</td>\n",
       "      <td>A linkage study in 30 Becker muscular dystroph...</td>\n",
       "    </tr>\n",
       "    <tr>\n",
       "      <th>2</th>\n",
       "      <td>7018927</td>\n",
       "      <td>Pituitary response to luteinizing hormone-rele...</td>\n",
       "      <td>The effects of a 6-hour infusion with haloperi...</td>\n",
       "    </tr>\n",
       "    <tr>\n",
       "      <th>3</th>\n",
       "      <td>7811247</td>\n",
       "      <td>X-linked adrenoleukodystrophy (ALD): a novel m...</td>\n",
       "      <td>Fragments of the adrenoleukodystrophy (ALD) cD...</td>\n",
       "    </tr>\n",
       "    <tr>\n",
       "      <th>4</th>\n",
       "      <td>8944024</td>\n",
       "      <td>Detection of heterozygous mutations in BRCA1 u...</td>\n",
       "      <td>The ability to scan a large gene rapidly and a...</td>\n",
       "    </tr>\n",
       "  </tbody>\n",
       "</table>\n",
       "</div>"
      ],
      "text/plain": [
       "   abstract_id                                              title  \\\n",
       "0      1711760  Delayed institution of hypertension during foc...   \n",
       "1      6086495  Localisation of the Becker muscular dystrophy ...   \n",
       "2      7018927  Pituitary response to luteinizing hormone-rele...   \n",
       "3      7811247  X-linked adrenoleukodystrophy (ALD): a novel m...   \n",
       "4      8944024  Detection of heterozygous mutations in BRCA1 u...   \n",
       "\n",
       "                                            abstract  \n",
       "0  The effect of induced hypertension instituted ...  \n",
       "1  A linkage study in 30 Becker muscular dystroph...  \n",
       "2  The effects of a 6-hour infusion with haloperi...  \n",
       "3  Fragments of the adrenoleukodystrophy (ALD) cD...  \n",
       "4  The ability to scan a large gene rapidly and a...  "
      ]
     },
     "execution_count": 7,
     "metadata": {},
     "output_type": "execute_result"
    }
   ],
   "source": [
    "import pandas as pd\n",
    "import spacy\n",
    "test_abstract_df =pd.read_csv('../data/test/abstracts_test.csv', sep='\\t')\n",
    "test_abstract_df.head()"
   ]
  },
  {
   "cell_type": "code",
   "execution_count": 8,
   "id": "e32dbf05",
   "metadata": {
    "colab": {
     "base_uri": "https://localhost:8080/",
     "height": 721
    },
    "id": "Q0VRXOfNsVYH",
    "outputId": "d142fd5d-0c4c-4aa9-8e90-4023f8da9c22"
   },
   "outputs": [
    {
     "name": "stderr",
     "output_type": "stream",
     "text": [
      "/opt/conda/lib/python3.8/site-packages/spacy/util.py:1635: UserWarning: [W111] Jupyter notebook detected: if using `prefer_gpu()` or `require_gpu()`, include it in the same cell right before `spacy.load()` to ensure that the model is loaded on the correct device. More information: http://spacy.io/usage/v3#jupyter-notebook-gpu\n",
      "  warnings.warn(Warnings.W111)\n"
     ]
    }
   ],
   "source": [
    "ner = spacy.load(R\"ner_demo/training/model-best\") #load the best model"
   ]
  },
  {
   "cell_type": "code",
   "execution_count": 9,
   "id": "355bd2af",
   "metadata": {
    "colab": {
     "base_uri": "https://localhost:8080/",
     "height": 256
    },
    "id": "xVcaLkU9qOHi",
    "outputId": "e9597eaf-50d4-4547-863d-8f5a9742fb85"
   },
   "outputs": [
    {
     "data": {
      "text/html": [
       "<span class=\"tex2jax_ignore\"><div class=\"entities\" style=\"line-height: 2.5; direction: ltr\">A linkage study in 30 \n",
       "<mark class=\"entity\" style=\"background: #ddd; padding: 0.45em 0.6em; margin: 0 0.25em; line-height: 1; border-radius: 0.35em;\">\n",
       "    Becker muscular dystrophy\n",
       "    <span style=\"font-size: 0.8em; font-weight: bold; line-height: 1; border-radius: 0.35em; vertical-align: middle; margin-left: 0.5rem\">DiseaseOrPhenotypicFeature</span>\n",
       "</mark>\n",
       " (\n",
       "<mark class=\"entity\" style=\"background: #ddd; padding: 0.45em 0.6em; margin: 0 0.25em; line-height: 1; border-radius: 0.35em;\">\n",
       "    BMD\n",
       "    <span style=\"font-size: 0.8em; font-weight: bold; line-height: 1; border-radius: 0.35em; vertical-align: middle; margin-left: 0.5rem\">DiseaseOrPhenotypicFeature</span>\n",
       "</mark>\n",
       ") kindreds using three cloned DNA sequences from the X chromosome which demonstrate restriction fragment length polymorphisms (RFLPs), suggests that the \n",
       "<mark class=\"entity\" style=\"background: #ddd; padding: 0.45em 0.6em; margin: 0 0.25em; line-height: 1; border-radius: 0.35em;\">\n",
       "    BMD\n",
       "    <span style=\"font-size: 0.8em; font-weight: bold; line-height: 1; border-radius: 0.35em; vertical-align: middle; margin-left: 0.5rem\">GeneOrGeneProduct</span>\n",
       "</mark>\n",
       " gene is located on the short arm of the X chromosome, in the p21 region. The genes for \n",
       "<mark class=\"entity\" style=\"background: #ddd; padding: 0.45em 0.6em; margin: 0 0.25em; line-height: 1; border-radius: 0.35em;\">\n",
       "    Becker and Duchenne dystrophies\n",
       "    <span style=\"font-size: 0.8em; font-weight: bold; line-height: 1; border-radius: 0.35em; vertical-align: middle; margin-left: 0.5rem\">DiseaseOrPhenotypicFeature</span>\n",
       "</mark>\n",
       " must therefore be closely linked, if not allelic, and any future DNA probes found to be of practical use in one disorder should be equally applicable to the other. The linkage analysis also provides data on the frequency of recombination along the short arm of the X chromosome, and across the centromeric region.. </div></span>"
      ],
      "text/plain": [
       "<IPython.core.display.HTML object>"
      ]
     },
     "metadata": {},
     "output_type": "display_data"
    }
   ],
   "source": [
    "# display sentence involving original entities\n",
    "test_sample =test_abstract_df.iloc[1]['abstract']\n",
    "spacy.displacy.render(ner(test_sample),jupyter=True, style = \"ent\")\n"
   ]
  },
  {
   "cell_type": "code",
   "execution_count": 10,
   "id": "2420d98c",
   "metadata": {
    "id": "2533d03d-af28-41fe-b55f-e0a61e84b443"
   },
   "outputs": [],
   "source": [
    "\n",
    "\n",
    "rec_entity_mentions= []\n",
    "#test_sentences = [x[0] for x in TEST_DATA[0:4000]] # extract the sentences from [sentence, entity]\n",
    "for i, row in test_abstract_df.iterrows():\n",
    "    abs_id = row['abstract_id']\n",
    "    text = row['title']+' '+row['abstract']\n",
    "    doc = ner(text)\n",
    "    for ent in doc.ents:\n",
    "        #print(ent.text, ent.start_char, ent.end_char, ent.label_)\n",
    "        rec_entity_mentions.append([i, abs_id, ent.start_char, ent.end_char,  ent.label_])\n",
    "    #displacy.render(doc,jupyter=True, style = \"ent\")"
   ]
  },
  {
   "cell_type": "code",
   "execution_count": 29,
   "id": "16c2c3d0",
   "metadata": {
    "id": "MGENzKu-qCaE"
   },
   "outputs": [],
   "source": [
    "submission_df = pd.DataFrame(rec_entity_mentions, columns=['id','abstract_id','offset_start','offset_finish','type'])"
   ]
  },
  {
   "cell_type": "markdown",
   "id": "f6385c39",
   "metadata": {
    "id": "JpWLcSCxgJrE"
   },
   "source": []
  },
  {
   "cell_type": "code",
   "execution_count": 30,
   "id": "4fd85988",
   "metadata": {
    "id": "IEm8eyi2qFft"
   },
   "outputs": [],
   "source": [
    "submission_df.to_csv('submission_10.csv', sep='\\t', index=False)"
   ]
  },
  {
   "cell_type": "code",
   "execution_count": null,
   "id": "f94d363a",
   "metadata": {
    "colab": {
     "base_uri": "https://localhost:8080/"
    },
    "id": "82ce61c9-0c31-432d-a9d4-e22a75e6afaf",
    "outputId": "b19d8851-1766-4e2b-f6be-9f77facaf6fc"
   },
   "outputs": [
    {
     "name": "stdout",
     "output_type": "stream",
     "text": [
      "ner_demo/\n",
      "ner_demo/training/\n",
      "ner_demo/training/model-last/\n",
      "ner_demo/training/model-last/tokenizer\n",
      "ner_demo/training/model-last/meta.json\n",
      "ner_demo/training/model-last/config.cfg\n",
      "ner_demo/training/model-last/transformer/\n",
      "ner_demo/training/model-last/transformer/cfg\n",
      "ner_demo/training/model-last/transformer/model\n",
      "ner_demo/training/model-last/ner/\n",
      "ner_demo/training/model-last/ner/model\n",
      "ner_demo/training/model-last/ner/moves\n",
      "ner_demo/training/model-last/ner/cfg\n",
      "ner_demo/training/model-last/vocab/\n",
      "ner_demo/training/model-last/vocab/strings.json\n",
      "ner_demo/training/model-last/vocab/vectors\n",
      "ner_demo/training/model-last/vocab/key2row\n",
      "ner_demo/training/model-last/vocab/vectors.cfg\n",
      "ner_demo/training/model-last/vocab/lookups.bin\n",
      "ner_demo/training/model-best/\n",
      "ner_demo/training/model-best/tokenizer\n",
      "ner_demo/training/model-best/meta.json\n",
      "ner_demo/training/model-best/config.cfg\n",
      "ner_demo/training/model-best/transformer/\n",
      "ner_demo/training/model-best/transformer/cfg\n",
      "ner_demo/training/model-best/transformer/model\n",
      "ner_demo/training/model-best/ner/\n",
      "ner_demo/training/model-best/ner/model\n",
      "ner_demo/training/model-best/ner/moves\n",
      "ner_demo/training/model-best/ner/cfg\n",
      "ner_demo/training/model-best/vocab/\n",
      "ner_demo/training/model-best/vocab/strings.json\n",
      "ner_demo/training/model-best/vocab/vectors\n",
      "ner_demo/training/model-best/vocab/key2row\n",
      "ner_demo/training/model-best/vocab/vectors.cfg\n",
      "ner_demo/training/model-best/vocab/lookups.bin\n"
     ]
    }
   ],
   "source": [
    "!tar -zcvf ner_demo.tar.gz ner_demo"
   ]
  },
  {
   "cell_type": "code",
   "execution_count": 11,
   "id": "f142df55",
   "metadata": {},
   "outputs": [
    {
     "data": {
      "text/html": [
       "<div>\n",
       "<style scoped>\n",
       "    .dataframe tbody tr th:only-of-type {\n",
       "        vertical-align: middle;\n",
       "    }\n",
       "\n",
       "    .dataframe tbody tr th {\n",
       "        vertical-align: top;\n",
       "    }\n",
       "\n",
       "    .dataframe thead th {\n",
       "        text-align: right;\n",
       "    }\n",
       "</style>\n",
       "<table border=\"1\" class=\"dataframe\">\n",
       "  <thead>\n",
       "    <tr style=\"text-align: right;\">\n",
       "      <th></th>\n",
       "      <th>id</th>\n",
       "      <th>abstract_id</th>\n",
       "      <th>offset_start</th>\n",
       "      <th>offset_finish</th>\n",
       "      <th>type</th>\n",
       "      <th>mention</th>\n",
       "      <th>entity_ids</th>\n",
       "    </tr>\n",
       "  </thead>\n",
       "  <tbody>\n",
       "    <tr>\n",
       "      <th>0</th>\n",
       "      <td>0</td>\n",
       "      <td>1711760</td>\n",
       "      <td>23</td>\n",
       "      <td>35</td>\n",
       "      <td>DiseaseOrPhenotypicFeature</td>\n",
       "      <td>hypertension</td>\n",
       "      <td>D006973</td>\n",
       "    </tr>\n",
       "    <tr>\n",
       "      <th>1</th>\n",
       "      <td>1</td>\n",
       "      <td>1711760</td>\n",
       "      <td>49</td>\n",
       "      <td>66</td>\n",
       "      <td>DiseaseOrPhenotypicFeature</td>\n",
       "      <td>cerebral ischemia</td>\n",
       "      <td>D002545</td>\n",
       "    </tr>\n",
       "    <tr>\n",
       "      <th>2</th>\n",
       "      <td>2</td>\n",
       "      <td>1711760</td>\n",
       "      <td>78</td>\n",
       "      <td>89</td>\n",
       "      <td>DiseaseOrPhenotypicFeature</td>\n",
       "      <td>brain edema</td>\n",
       "      <td>D001929</td>\n",
       "    </tr>\n",
       "    <tr>\n",
       "      <th>3</th>\n",
       "      <td>3</td>\n",
       "      <td>1711760</td>\n",
       "      <td>113</td>\n",
       "      <td>125</td>\n",
       "      <td>DiseaseOrPhenotypicFeature</td>\n",
       "      <td>hypertension</td>\n",
       "      <td>D006973</td>\n",
       "    </tr>\n",
       "    <tr>\n",
       "      <th>4</th>\n",
       "      <td>4</td>\n",
       "      <td>1711760</td>\n",
       "      <td>165</td>\n",
       "      <td>197</td>\n",
       "      <td>DiseaseOrPhenotypicFeature</td>\n",
       "      <td>middle cerebral artery occlusion</td>\n",
       "      <td>D020244</td>\n",
       "    </tr>\n",
       "  </tbody>\n",
       "</table>\n",
       "</div>"
      ],
      "text/plain": [
       "   id  abstract_id  offset_start  offset_finish                        type  \\\n",
       "0   0      1711760            23             35  DiseaseOrPhenotypicFeature   \n",
       "1   1      1711760            49             66  DiseaseOrPhenotypicFeature   \n",
       "2   2      1711760            78             89  DiseaseOrPhenotypicFeature   \n",
       "3   3      1711760           113            125  DiseaseOrPhenotypicFeature   \n",
       "4   4      1711760           165            197  DiseaseOrPhenotypicFeature   \n",
       "\n",
       "                            mention entity_ids  \n",
       "0                      hypertension    D006973  \n",
       "1                 cerebral ischemia    D002545  \n",
       "2                       brain edema    D001929  \n",
       "3                      hypertension    D006973  \n",
       "4  middle cerebral artery occlusion    D020244  "
      ]
     },
     "execution_count": 11,
     "metadata": {},
     "output_type": "execute_result"
    }
   ],
   "source": [
    "entities_df = pd.read_csv('../data/test/entities_test.csv', sep='\\t')\n",
    "entities_df.head()"
   ]
  },
  {
   "cell_type": "code",
   "execution_count": 12,
   "id": "4322e8c1",
   "metadata": {},
   "outputs": [],
   "source": [
    "id2abstr ={ abs_id: abs_text for abs_id, abs_text in test_abstract_df[['abstract_id','abstract']].values }\n",
    "\n",
    "id2title ={ abs_id: title for abs_id, title in test_abstract_df[['abstract_id','title']].values }"
   ]
  },
  {
   "cell_type": "code",
   "execution_count": 13,
   "id": "522000db",
   "metadata": {},
   "outputs": [],
   "source": [
    "testing_data =[]\n",
    "\n",
    "for key, df in entities_df.groupby('abstract_id'):\n",
    "    #print (key)\n",
    "    entity_mentions = []\n",
    "    text = id2title[key]+' '+id2abstr[key]\n",
    "    text = text.lower()\n",
    "    for i, row in df.iterrows():\n",
    "          entity_mention = (row['offset_start'], row['offset_finish'],row['type'])\n",
    "          #print (text[row['offset_start']:row['offset_finish']])\n",
    "          entity_mentions.append(entity_mention)\n",
    "    testing_data.append( (text,  {'entities': entity_mentions}))"
   ]
  },
  {
   "cell_type": "code",
   "execution_count": 14,
   "id": "50eefe95",
   "metadata": {},
   "outputs": [
    {
     "name": "stderr",
     "output_type": "stream",
     "text": [
      "/opt/conda/lib/python3.8/site-packages/spacy/util.py:1635: UserWarning: [W111] Jupyter notebook detected: if using `prefer_gpu()` or `require_gpu()`, include it in the same cell right before `spacy.load()` to ensure that the model is loaded on the correct device. More information: http://spacy.io/usage/v3#jupyter-notebook-gpu\n",
      "  warnings.warn(Warnings.W111)\n",
      " 49%|████▉     | 49/100 [00:00<00:00, 241.02it/s]"
     ]
    },
    {
     "name": "stdout",
     "output_type": "stream",
     "text": [
      "Skipping entity\n",
      "1285 1289 GeneOrGeneProduct\n",
      "Skipping entity\n",
      "607 621 ChemicalEntity\n",
      "Skipping entity\n",
      "95 101 SequenceVariant\n",
      "Skipping entity\n",
      "583 589 SequenceVariant\n",
      "Skipping entity\n",
      "1167 1173 SequenceVariant\n",
      "Skipping entity\n",
      "1227 1233 SequenceVariant\n",
      "Skipping entity\n",
      "1242 1248 SequenceVariant\n",
      "Skipping entity\n",
      "1494 1500 SequenceVariant\n",
      "Skipping entity\n",
      "1562 1568 SequenceVariant\n",
      "Skipping entity\n",
      "1754 1760 SequenceVariant\n",
      "Skipping entity\n",
      "1878 1884 SequenceVariant\n",
      "Skipping entity\n",
      "1327 1346 DiseaseOrPhenotypicFeature\n",
      "Skipping entity\n",
      "582 590 ChemicalEntity\n",
      "Skipping entity\n",
      "593 604 ChemicalEntity\n",
      "Skipping entity\n",
      "40 49 SequenceVariant\n",
      "Skipping entity\n",
      "345 355 ChemicalEntity\n",
      "Skipping entity\n",
      "357 393 ChemicalEntity\n",
      "Skipping entity\n",
      "650 654 GeneOrGeneProduct\n",
      "Skipping entity\n",
      "694 698 GeneOrGeneProduct\n",
      "Skipping entity\n",
      "796 800 GeneOrGeneProduct\n",
      "Skipping entity\n",
      "819 823 GeneOrGeneProduct\n",
      "Skipping entity\n",
      "1064 1068 GeneOrGeneProduct\n",
      "Skipping entity\n",
      "1142 1146 GeneOrGeneProduct\n",
      "Skipping entity\n",
      "1190 1194 GeneOrGeneProduct\n",
      "Skipping entity\n",
      "1297 1301 GeneOrGeneProduct\n",
      "Skipping entity\n",
      "1321 1325 GeneOrGeneProduct\n",
      "Skipping entity\n",
      "1472 1476 GeneOrGeneProduct\n",
      "Skipping entity\n",
      "1495 1499 GeneOrGeneProduct\n",
      "Skipping entity\n",
      "1561 1565 GeneOrGeneProduct\n",
      "Skipping entity\n",
      "1595 1599 GeneOrGeneProduct\n",
      "Skipping entity\n",
      "334 337 ChemicalEntity\n",
      "Skipping entity\n",
      "544 551 SequenceVariant\n",
      "Skipping entity\n",
      "552 557 SequenceVariant\n",
      "Skipping entity\n",
      "327 330 ChemicalEntity\n",
      "Skipping entity\n",
      "72 108 DiseaseOrPhenotypicFeature\n",
      "Skipping entity\n",
      "1019 1024 SequenceVariant\n",
      "Skipping entity\n",
      "1029 1034 SequenceVariant\n",
      "Skipping entity\n",
      "1130 1135 SequenceVariant\n",
      "Skipping entity\n",
      "1239 1244 SequenceVariant\n",
      "Skipping entity\n",
      "1249 1254 SequenceVariant\n",
      "Skipping entity\n",
      "1259 1264 SequenceVariant\n",
      "Skipping entity\n",
      "1312 1317 SequenceVariant\n",
      "Skipping entity\n",
      "1321 1326 SequenceVariant\n",
      "Skipping entity\n",
      "524 540 SequenceVariant\n",
      "Skipping entity\n",
      "556 563 GeneOrGeneProduct"
     ]
    },
    {
     "name": "stderr",
     "output_type": "stream",
     "text": [
      "100%|██████████| 100/100 [00:00<00:00, 252.58it/s]\n"
     ]
    },
    {
     "name": "stdout",
     "output_type": "stream",
     "text": [
      "\n",
      "Skipping entity\n",
      "568 570 DiseaseOrPhenotypicFeature\n",
      "Skipping entity\n",
      "600 602 GeneOrGeneProduct\n",
      "Skipping entity\n",
      "638 640 GeneOrGeneProduct\n",
      "Skipping entity\n",
      "646 648 DiseaseOrPhenotypicFeature\n",
      "Skipping entity\n",
      "650 652 GeneOrGeneProduct\n",
      "Skipping entity\n",
      "872 874 GeneOrGeneProduct\n",
      "Skipping entity\n",
      "1128 1130 GeneOrGeneProduct\n",
      "Skipping entity\n",
      "1024 1032 GeneOrGeneProduct\n",
      "Skipping entity\n",
      "1409 1412 GeneOrGeneProduct\n",
      "Skipping entity\n",
      "1415 1419 GeneOrGeneProduct\n",
      "Skipping entity\n",
      "1422 1427 GeneOrGeneProduct\n",
      "Skipping entity\n",
      "1099 1104 GeneOrGeneProduct\n",
      "Skipping entity\n",
      "1106 1110 GeneOrGeneProduct\n",
      "Skipping entity\n",
      "1714 1718 GeneOrGeneProduct\n",
      "Skipping entity\n",
      "1720 1744 GeneOrGeneProduct\n",
      "Skipping entity\n",
      "210 213 GeneOrGeneProduct\n",
      "Skipping entity\n",
      "215 219 GeneOrGeneProduct\n",
      "Skipping entity\n",
      "1170 1173 GeneOrGeneProduct\n",
      "Skipping entity\n",
      "1176 1181 GeneOrGeneProduct\n",
      "Skipping entity\n",
      "1184 1189 GeneOrGeneProduct\n",
      "Skipping entity\n",
      "1081 1086 GeneOrGeneProduct\n",
      "Skipping entity\n",
      "1088 1095 GeneOrGeneProduct\n",
      "Skipping entity\n",
      "1343 1346 GeneOrGeneProduct\n",
      "Skipping entity\n",
      "120 124 GeneOrGeneProduct\n",
      "Skipping entity\n",
      "124 128 SequenceVariant\n",
      "Skipping entity\n",
      "129 133 GeneOrGeneProduct\n",
      "Skipping entity\n",
      "564 568 GeneOrGeneProduct\n",
      "Skipping entity\n",
      "568 572 SequenceVariant\n",
      "Skipping entity\n",
      "573 577 GeneOrGeneProduct\n",
      "Skipping entity\n",
      "1077 1085 GeneOrGeneProduct\n",
      "Skipping entity\n",
      "1308 1316 GeneOrGeneProduct\n",
      "Skipping entity\n",
      "1455 1463 GeneOrGeneProduct\n",
      "Skipping entity\n",
      "637 643 GeneOrGeneProduct\n",
      "Skipping entity\n",
      "137 144 GeneOrGeneProduct\n",
      "Skipping entity\n",
      "507 513 GeneOrGeneProduct\n",
      "Skipping entity\n",
      "517 520 GeneOrGeneProduct\n",
      "Skipping entity\n",
      "1766 1772 GeneOrGeneProduct\n",
      "Skipping entity\n",
      "1776 1779 GeneOrGeneProduct\n",
      "Skipping entity\n",
      "1911 1917 GeneOrGeneProduct\n",
      "Skipping entity\n",
      "1921 1924 GeneOrGeneProduct\n",
      "Skipping entity\n",
      "2046 2052 GeneOrGeneProduct\n",
      "Skipping entity\n",
      "2056 2059 GeneOrGeneProduct\n"
     ]
    }
   ],
   "source": [
    "#import pandas as pd\n",
    "from tqdm import tqdm\n",
    "#import spacy\n",
    "from spacy.tokens import DocBin\n",
    "nlp = spacy.blank(\"en\") # load a new spacy model\n",
    "db = DocBin() # create a DocBin object\n",
    "for text, annot in tqdm(testing_data): # data in previous format\n",
    "    doc = nlp.make_doc(text) # create doc object from text\n",
    "    ents = []\n",
    "    for start, end, label in annot[\"entities\"]: # add character indexes\n",
    "        span = doc.char_span(start, end, label=label, alignment_mode=\"strict\")\n",
    "        if span is None:\n",
    "            print(\"Skipping entity\")\n",
    "            print (start, end, label)\n",
    "        else:\n",
    "            ents.append(span)\n",
    "    doc.ents = ents # label the text with the ents\n",
    "    db.add(doc)\n",
    "\n",
    "db.to_disk(\"test.spacy\") # save the docbin object\n"
   ]
  },
  {
   "cell_type": "code",
   "execution_count": 17,
   "id": "ca04aa38",
   "metadata": {
    "id": "27ovG2KtbKfT"
   },
   "outputs": [
    {
     "name": "stdout",
     "output_type": "stream",
     "text": [
      "\u001b[38;5;4mℹ Using GPU: 0\u001b[0m\n",
      "\u001b[1m\n",
      "================================== Results ==================================\u001b[0m\n",
      "\n",
      "TOK     100.00\n",
      "NER P   83.09 \n",
      "NER R   85.26 \n",
      "NER F   84.16 \n",
      "SPEED   16220 \n",
      "\n",
      "\u001b[1m\n",
      "=============================== NER (per type) ===============================\u001b[0m\n",
      "\n",
      "                                 P       R       F\n",
      "DiseaseOrPhenotypicFeature   81.30   82.83   82.06\n",
      "ChemicalEntity               81.63   85.39   83.47\n",
      "OrganismTaxon                93.37   97.51   95.39\n",
      "GeneOrGeneProduct            84.41   83.83   84.12\n",
      "SequenceVariant              74.71   87.67   80.67\n",
      "CellLine                     71.43   58.82   64.52\n",
      "\n"
     ]
    }
   ],
   "source": [
    "!spacy evaluate ner_demo/training/model-best test.spacy --gpu-id 0"
   ]
  },
  {
   "cell_type": "code",
   "execution_count": null,
   "id": "9f924b33",
   "metadata": {},
   "outputs": [],
   "source": []
  }
 ],
 "metadata": {
  "accelerator": "GPU",
  "colab": {
   "collapsed_sections": [],
   "name": "NERSpacy.ipynb",
   "provenance": []
  },
  "kernelspec": {
   "display_name": "Python 3",
   "language": "python",
   "name": "python3"
  },
  "language_info": {
   "codemirror_mode": {
    "name": "ipython",
    "version": 3
   },
   "file_extension": ".py",
   "mimetype": "text/x-python",
   "name": "python",
   "nbconvert_exporter": "python",
   "pygments_lexer": "ipython3",
   "version": "3.8.8"
  }
 },
 "nbformat": 4,
 "nbformat_minor": 5
}
